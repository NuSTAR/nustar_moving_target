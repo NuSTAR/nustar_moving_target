{
 "cells": [
  {
   "cell_type": "markdown",
   "metadata": {},
   "source": [
    "# Note, this *only* works for observing things in the future. Dealing with the pointing corrections in the analysis is not supported here.\n",
    "\n",
    "# Set your observing times here"
   ]
  },
  {
   "cell_type": "code",
   "execution_count": 1,
   "metadata": {
    "collapsed": false
   },
   "outputs": [],
   "source": [
    "from datetime import datetime\n",
    "tstart = '2017-06-18T00:00:00'\n",
    "tend = '2017-06-20T00:00:00'\n",
    " \n",
    "# Turn these into datetime objects\n",
    "\n",
    "tstart = datetime.strptime(tstart, '%Y-%m-%dT%H:%M:%S')\n",
    "tend = datetime.strptime(tend, '%Y-%m-%dT%H:%M:%S')                "
   ]
  },
  {
   "cell_type": "markdown",
   "metadata": {},
   "source": [
    "# Step 1, get the nominal RA/Dec Position for Jupiter at the start"
   ]
  },
  {
   "cell_type": "code",
   "execution_count": 2,
   "metadata": {
    "collapsed": false
   },
   "outputs": [
    {
     "name": "stderr",
     "output_type": "stream",
     "text": [
      "[#################################] 100% deltat.data\n",
      "[#################################] 100% deltat.preds\n",
      "[#################################] 100% Leap_Second.dat\n",
      "[#################################] 100% jup310.bsp\n"
     ]
    },
    {
     "name": "stdout",
     "output_type": "stream",
     "text": [
      "192.56390324798966 deg -3.907415328295961 deg\n",
      "2017 169\n",
      "2017 171\n"
     ]
    }
   ],
   "source": [
    "from skyfield.api import Loader\n",
    "from astropy.time import Time\n",
    "import astropy.units as u\n",
    "\n",
    "load = Loader('../data')\n",
    "\n",
    "ts = load.timescale()\n",
    "planets = load('jup310.bsp')\n",
    "\n",
    "astro_time = Time(tstart)\n",
    "t = ts.from_astropy(astro_time)\n",
    "jupiter, earth = planets['jupiter'], planets['earth']\n",
    "astrometric = earth.at(t).observe(jupiter)\n",
    "ra, dec, distance = astrometric.radec()\n",
    "\n",
    "print(ra.to(u.deg), dec.to(u.deg))\n",
    "\n",
    "print(tstart.timetuple().tm_year, tstart.timetuple().tm_yday)\n",
    "print(tend.timetuple().tm_year, tend.timetuple().tm_yday)\n"
   ]
  },
  {
   "cell_type": "markdown",
   "metadata": {},
   "source": [
    "# Step 2: Go run the code that figured out the unocculted periods for the RA/Dec and the date range reported above.\n",
    "\n",
    "This works on lif. There are example shell scripts in ./orbit_engine that use the version that Karl already compiled for the nuops users.\n",
    "\n",
    "Do:\n",
    "\n",
    "`./get_latest_TLE.sh`\n",
    "\n",
    "adjust the\n",
    "\n",
    "`run_jupiter_test.sh`\n",
    "\n",
    "script appropriately, then\n",
    "\n",
    "`./run_jupiter_test.sh`\n",
    "\n",
    "Check in the resulting jupiter occultation file into the repo, push it here, and them start below.\n"
   ]
  },
  {
   "cell_type": "markdown",
   "metadata": {},
   "source": [
    "# Step 3: Parse the resulting occultation file:"
   ]
  },
  {
   "cell_type": "code",
   "execution_count": 3,
   "metadata": {
    "collapsed": false
   },
   "outputs": [
    {
     "data": {
      "text/html": [
       "<div>\n",
       "<table border=\"1\" class=\"dataframe\">\n",
       "  <thead>\n",
       "    <tr style=\"text-align: right;\">\n",
       "      <th></th>\n",
       "      <th>visible</th>\n",
       "      <th>occulted</th>\n",
       "    </tr>\n",
       "  </thead>\n",
       "  <tbody>\n",
       "    <tr>\n",
       "      <th>0</th>\n",
       "      <td>2017-06-18 00:25:18</td>\n",
       "      <td>2017-06-18 01:21:08</td>\n",
       "    </tr>\n",
       "    <tr>\n",
       "      <th>1</th>\n",
       "      <td>2017-06-18 02:01:58</td>\n",
       "      <td>2017-06-18 02:57:47</td>\n",
       "    </tr>\n",
       "    <tr>\n",
       "      <th>2</th>\n",
       "      <td>2017-06-18 03:38:38</td>\n",
       "      <td>2017-06-18 04:34:27</td>\n",
       "    </tr>\n",
       "    <tr>\n",
       "      <th>3</th>\n",
       "      <td>2017-06-18 05:15:17</td>\n",
       "      <td>2017-06-18 06:11:07</td>\n",
       "    </tr>\n",
       "    <tr>\n",
       "      <th>4</th>\n",
       "      <td>2017-06-18 06:51:57</td>\n",
       "      <td>2017-06-18 07:47:46</td>\n",
       "    </tr>\n",
       "  </tbody>\n",
       "</table>\n",
       "</div>"
      ],
      "text/plain": [
       "               visible             occulted\n",
       "0  2017-06-18 00:25:18  2017-06-18 01:21:08\n",
       "1  2017-06-18 02:01:58  2017-06-18 02:57:47\n",
       "2  2017-06-18 03:38:38  2017-06-18 04:34:27\n",
       "3  2017-06-18 05:15:17  2017-06-18 06:11:07\n",
       "4  2017-06-18 06:51:57  2017-06-18 07:47:46"
      ]
     },
     "execution_count": 3,
     "metadata": {},
     "output_type": "execute_result"
    }
   ],
   "source": [
    "file = '../orbit_engine/jupiter_169_171.occ'\n",
    "from jupiter_planning import *\n",
    "import jupiter_planning\n",
    "import importlib\n",
    "importlib.reload(jupiter_planning)\n",
    "orbits = jupiter_planning.parse_occ(file)\n",
    "orbits.head()"
   ]
  },
  {
   "cell_type": "markdown",
   "metadata": {},
   "source": [
    "# Use SkyField to get the location of Jupiter for each orbit:"
   ]
  },
  {
   "cell_type": "code",
   "execution_count": 6,
   "metadata": {
    "collapsed": false,
    "scrolled": false
   },
   "outputs": [
    {
     "name": "stdout",
     "output_type": "stream",
     "text": [
      "Total accumualted time 97139.0\n"
     ]
    }
   ],
   "source": [
    "jupiter_planning.get_jupiter_radec(orbits, load_path = '../data', outfile='jupiter_169_171_pointing.txt', parallax_correction=True)"
   ]
  },
  {
   "cell_type": "code",
   "execution_count": null,
   "metadata": {
    "collapsed": true
   },
   "outputs": [],
   "source": []
  }
 ],
 "metadata": {
  "anaconda-cloud": {},
  "kernelspec": {
   "display_name": "Python [default]",
   "language": "python",
   "name": "python3"
  },
  "language_info": {
   "codemirror_mode": {
    "name": "ipython",
    "version": 3
   },
   "file_extension": ".py",
   "mimetype": "text/x-python",
   "name": "python",
   "nbconvert_exporter": "python",
   "pygments_lexer": "ipython3",
   "version": "3.5.2"
  }
 },
 "nbformat": 4,
 "nbformat_minor": 2
}
