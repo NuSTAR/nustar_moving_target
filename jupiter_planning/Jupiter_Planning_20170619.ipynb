{
 "cells": [
  {
   "cell_type": "markdown",
   "metadata": {},
   "source": [
    "# Note, this *only* works for observing things in the future. Dealing with the pointing corrections in the analysis is not supported here.\n",
    "\n",
    "# Set your observing times here"
   ]
  },
  {
   "cell_type": "code",
   "execution_count": 33,
   "metadata": {
    "collapsed": false
   },
   "outputs": [],
   "source": [
    "from datetime import datetime\n",
    "tstart = '2017-06-18T00:00:00'\n",
    "tend = '2017-06-20T00:00:00'\n",
    " \n",
    "# Turn these into datetime objects\n",
    "\n",
    "tstart = datetime.strptime(tstart, '%Y-%m-%dT%H:%M:%S')\n",
    "tend = datetime.strptime(tend, '%Y-%m-%dT%H:%M:%S')                "
   ]
  },
  {
   "cell_type": "markdown",
   "metadata": {},
   "source": [
    "# Step 1, get the nominal RA/Dec Position for Jupiter at the start"
   ]
  },
  {
   "cell_type": "code",
   "execution_count": 2,
   "metadata": {
    "collapsed": false
   },
   "outputs": [
    {
     "name": "stdout",
     "output_type": "stream",
     "text": [
      "192.56390324798966 deg -3.907415328295961 deg\n",
      "2017 169\n",
      "2017 171\n"
     ]
    }
   ],
   "source": [
    "from skyfield.api import Loader\n",
    "from astropy.time import Time\n",
    "import astropy.units as u\n",
    "\n",
    "load = Loader('../data')\n",
    "\n",
    "ts = load.timescale()\n",
    "planets = load('jup310.bsp')\n",
    "\n",
    "astro_time = Time(tstart)\n",
    "t = ts.from_astropy(astro_time)\n",
    "jupiter, earth = planets['jupiter'], planets['earth']\n",
    "astrometric = earth.at(t).observe(jupiter)\n",
    "ra, dec, distance = astrometric.radec()\n",
    "\n",
    "print(ra.to(u.deg), dec.to(u.deg))\n",
    "\n",
    "print(tstart.timetuple().tm_year, tstart.timetuple().tm_yday)\n",
    "print(tend.timetuple().tm_year, tend.timetuple().tm_yday)\n",
    "\n",
    "\n"
   ]
  },
  {
   "cell_type": "markdown",
   "metadata": {},
   "source": [
    "# Step 2: Go run the code that figured out the unocculted periods for the RA/Dec and the date range reported above.\n",
    "\n",
    "This works on lif. There are example shell scripts in ./orbit_engine that use the version that Karl already compiled for the nuops users.\n",
    "\n",
    "Do:\n",
    "\n",
    "`./get_latest_TLE.sh`\n",
    "\n",
    "adjust the\n",
    "\n",
    "`run_jupiter_test.sh`\n",
    "\n",
    "script appropriately, then\n",
    "\n",
    "`./run_jupiter_test.sh`\n",
    "\n",
    "Check in the resulting jupiter occultation file into the repo, push it here, and them start below.\n"
   ]
  },
  {
   "cell_type": "markdown",
   "metadata": {},
   "source": [
    "# Step 3: Parse the resulting occultation file:"
   ]
  },
  {
   "cell_type": "code",
   "execution_count": 30,
   "metadata": {
    "collapsed": false
   },
   "outputs": [
    {
     "data": {
      "text/html": [
       "<div>\n",
       "<style>\n",
       "    .dataframe thead tr:only-child th {\n",
       "        text-align: right;\n",
       "    }\n",
       "\n",
       "    .dataframe thead th {\n",
       "        text-align: left;\n",
       "    }\n",
       "\n",
       "    .dataframe tbody tr th {\n",
       "        vertical-align: top;\n",
       "    }\n",
       "</style>\n",
       "<table border=\"1\" class=\"dataframe\">\n",
       "  <thead>\n",
       "    <tr style=\"text-align: right;\">\n",
       "      <th></th>\n",
       "      <th>visible</th>\n",
       "      <th>occulted</th>\n",
       "    </tr>\n",
       "  </thead>\n",
       "  <tbody>\n",
       "    <tr>\n",
       "      <th>0</th>\n",
       "      <td>2017-06-18 00:25:18</td>\n",
       "      <td>2017-06-18 01:21:08</td>\n",
       "    </tr>\n",
       "    <tr>\n",
       "      <th>1</th>\n",
       "      <td>2017-06-18 02:01:58</td>\n",
       "      <td>2017-06-18 02:57:47</td>\n",
       "    </tr>\n",
       "    <tr>\n",
       "      <th>2</th>\n",
       "      <td>2017-06-18 03:38:38</td>\n",
       "      <td>2017-06-18 04:34:27</td>\n",
       "    </tr>\n",
       "    <tr>\n",
       "      <th>3</th>\n",
       "      <td>2017-06-18 05:15:17</td>\n",
       "      <td>2017-06-18 06:11:07</td>\n",
       "    </tr>\n",
       "    <tr>\n",
       "      <th>4</th>\n",
       "      <td>2017-06-18 06:51:57</td>\n",
       "      <td>2017-06-18 07:47:46</td>\n",
       "    </tr>\n",
       "  </tbody>\n",
       "</table>\n",
       "</div>"
      ],
      "text/plain": [
       "               visible             occulted\n",
       "0  2017-06-18 00:25:18  2017-06-18 01:21:08\n",
       "1  2017-06-18 02:01:58  2017-06-18 02:57:47\n",
       "2  2017-06-18 03:38:38  2017-06-18 04:34:27\n",
       "3  2017-06-18 05:15:17  2017-06-18 06:11:07\n",
       "4  2017-06-18 06:51:57  2017-06-18 07:47:46"
      ]
     },
     "execution_count": 30,
     "metadata": {},
     "output_type": "execute_result"
    }
   ],
   "source": [
    "file = '../orbit_engine/jupiter_169_171.occ'\n",
    "from jupiter_planning import *\n",
    "import jupiter_planning\n",
    "import importlib\n",
    "importlib.reload(jupiter_planning)\n",
    "orbits = jupiter_planning.parse_occ(file)\n",
    "orbits.head()"
   ]
  },
  {
   "cell_type": "markdown",
   "metadata": {},
   "source": [
    "# Use SkyField to get the location of Jupiter for each orbit:"
   ]
  },
  {
   "cell_type": "code",
   "execution_count": 31,
   "metadata": {
    "collapsed": false,
    "scrolled": false
   },
   "outputs": [
    {
     "name": "stdout",
     "output_type": "stream",
     "text": [
      "Aim Time            RA                  Dec\n",
      "2017-06-18T00:25:18 192.56469376191205  -3.907925208562443\n",
      "2017-06-18T02:01:58 192.56613909309198  -3.908855286324684\n",
      "2017-06-18T03:38:38 192.56759679977046  -3.9097905630338694\n",
      "2017-06-18T05:15:17 192.56906661229905  -3.910730868127775\n",
      "2017-06-18T06:51:57 192.57054863638587  -3.911676272418553\n",
      "2017-06-18T08:28:37 192.57204298167517  -3.912626848598622\n",
      "2017-06-18T10:05:16 192.57354937182615  -3.9135824239854835\n",
      "2017-06-18T11:41:56 192.5750679182801  -3.9145430725740615\n",
      "2017-06-18T13:18:36 192.57659873945522  -3.9155088715512174\n",
      "2017-06-18T14:55:15 192.57814156082605  -3.9164796498370014\n",
      "2017-06-18T16:31:55 192.5796965071999  -3.9174554877973766\n",
      "2017-06-18T18:08:34 192.58126357611755  -3.9184363846945347\n",
      "2017-06-18T19:45:14 192.58284290592457  -3.919422426866776\n",
      "2017-06-18T21:21:54 192.58443422991382  -3.9204134471338765\n",
      "2017-06-18T22:58:33 192.58603769275038  -3.921409534553163\n",
      "2017-06-19T00:35:13 192.58765344605953  -3.9224107810243987\n",
      "2017-06-19T02:11:53 192.58928122508942  -3.9234170200099667\n",
      "2017-06-19T03:48:32 192.59092118351785  -3.9244283439623824\n",
      "2017-06-19T05:25:12 192.59257347932075  -3.92544484691468\n",
      "2017-06-19T07:01:52 192.59423784189616  -3.9264663592235407\n",
      "2017-06-19T08:38:31 192.59591442573745  -3.927492972933397\n",
      "2017-06-19T10:15:11 192.59760338686263  -3.928524780431936\n",
      "2017-06-19T11:51:51 192.59930444067754  -3.9295616053941385\n",
      "2017-06-19T13:28:30 192.60101773495506  -3.9306035362360037\n",
      "2017-06-19T15:05:10 192.60274341742073  -3.931650661134272\n",
      "2017-06-19T16:41:49 192.6044810340851  -3.9327027042434493\n",
      "2017-06-19T18:18:29 192.60623117381465  -3.933760022120067\n",
      "2017-06-19T19:55:09 192.60799352359274  -3.9348224257960074\n",
      "2017-06-19T21:31:48 192.6097677586108  -3.9358897214277047\n",
      "Total accumualted time 97139.0\n"
     ]
    }
   ],
   "source": [
    "jupiter_planning.get_jupiter_radec(orbits, outfile='test.txt', show=True)"
   ]
  },
  {
   "cell_type": "code",
   "execution_count": null,
   "metadata": {
    "collapsed": true
   },
   "outputs": [],
   "source": []
  }
 ],
 "metadata": {
  "anaconda-cloud": {},
  "kernelspec": {
   "display_name": "Python [default]",
   "language": "python",
   "name": "python3"
  },
  "language_info": {
   "codemirror_mode": {
    "name": "ipython",
    "version": 3
   },
   "file_extension": ".py",
   "mimetype": "text/x-python",
   "name": "python",
   "nbconvert_exporter": "python",
   "pygments_lexer": "ipython3",
   "version": "3.5.1"
  }
 },
 "nbformat": 4,
 "nbformat_minor": 2
}
