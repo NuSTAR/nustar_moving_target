{
 "cells": [
  {
   "cell_type": "code",
   "execution_count": 1,
   "metadata": {
    "collapsed": false
   },
   "outputs": [],
   "source": [
    "import os\n",
    "from astropy.io import fits\n",
    "import numpy as np\n",
    "\n",
    "\n",
    "def convert_file(file):\n",
    "\n",
    "    image = []\n",
    "\n",
    "\n",
    "\n",
    "    with open(file, \"rb\") as binary_file:\n",
    "        # Read the whole file at once\n",
    "        data = binary_file.read()\n",
    "\n",
    "        # Seek position and read N bytes\n",
    "        binary_file.seek(0)  # Go to beginning\n",
    "        # Skip over the header bytes.\n",
    "        header = binary_file.read(34)\n",
    "\n",
    "        entry = binary_file.read(1)\n",
    "        while(True):\n",
    "            if not entry:\n",
    "                break\n",
    "            cts = int.from_bytes(entry, byteorder='big')\n",
    "    #        print(cts)\n",
    "            image.extend([cts])\n",
    "            entry = binary_file.read(1)\n",
    "    #        break\n",
    "    im = np.array(image)\n",
    "    im2 = np.resize(im, [580, 752])\n",
    "    \n",
    "    outfile = os.path.splitext(file)[0] +\".fits\"\n",
    "    print(outfile)\n",
    "    \n",
    "\n",
    "\n",
    "    \n",
    "    hdu = fits.PrimaryHDU(im2)\n",
    "    hdu.writeto(outfile, overwrite=True)\n"
   ]
  },
  {
   "cell_type": "code",
   "execution_count": 5,
   "metadata": {
    "collapsed": false
   },
   "outputs": [
    {
     "name": "stdout",
     "output_type": "stream",
     "text": [
      "./lunar_images/chu04_nustar_flight_2017_172_065346.raw\n",
      "./lunar_images/chu04_nustar_flight_2017_172_065346.fits\n",
      "./lunar_images/chu04_nustar_flight_2017_172_070258.raw\n",
      "./lunar_images/chu04_nustar_flight_2017_172_070258.fits\n",
      "./lunar_images/chu04_nustar_flight_2017_172_071209.raw\n",
      "./lunar_images/chu04_nustar_flight_2017_172_071209.fits\n",
      "./lunar_images/chu04_nustar_flight_2017_172_072122.raw\n",
      "./lunar_images/chu04_nustar_flight_2017_172_072122.fits\n",
      "./lunar_images/chu04_nustar_flight_2017_172_073032.raw\n",
      "./lunar_images/chu04_nustar_flight_2017_172_073032.fits\n"
     ]
    }
   ],
   "source": [
    "import glob\n",
    "files = glob.glob('./lunar_images/*raw')\n",
    "#files.append(*glob.glob('./*raw'))\n",
    "\n",
    "for file in files:\n",
    "    print(file)\n",
    "    convert_file(file)\n",
    "\n"
   ]
  },
  {
   "cell_type": "code",
   "execution_count": 6,
   "metadata": {
    "collapsed": false
   },
   "outputs": [
    {
     "name": "stdout",
     "output_type": "stream",
     "text": [
      "221.194846233\n"
     ]
    }
   ],
   "source": [
    "star1x, star1y = 516.3, 360.8\n",
    "star2x, star2y = 17.9, 31.5\n",
    "\n",
    "dr = np.sqrt((star1x - star2x)**2 + (star1y - star2y)*2)\n",
    "print(dr)\n",
    "\n"
   ]
  },
  {
   "cell_type": "code",
   "execution_count": 8,
   "metadata": {
    "collapsed": false
   },
   "outputs": [],
   "source": [
    "from astropy import units as u\n",
    "from astropy.coordinates import SkyCoord\n",
    "\n",
    "coords = ['13:25:11 -11:09:40', '12:41:39 -01:26:58']\n",
    "ra1 = '13:25:11'\n",
    "dec1 = '-11:09:40'\n",
    "ra2 = '12:41:39'\n",
    "dec2 = '-01:26:59'\n",
    "\n",
    "\n",
    "c1 = SkyCoord(ra1, dec1, unit=(u.hourangle, u.deg))\n",
    "c2= SkyCoord(ra2, dec2, unit=(u.hourangle, u.deg))\n",
    "angdist = c1.separation(c2).deg\n"
   ]
  },
  {
   "cell_type": "code",
   "execution_count": 9,
   "metadata": {
    "collapsed": false
   },
   "outputs": [
    {
     "name": "stdout",
     "output_type": "stream",
     "text": [
      "3.94051274287\n"
     ]
    }
   ],
   "source": [
    "plate = angdist / dr\n",
    "print(plate*u.deg.to(u.arcmin))"
   ]
  },
  {
   "cell_type": "code",
   "execution_count": 14,
   "metadata": {
    "collapsed": false
   },
   "outputs": [
    {
     "name": "stdout",
     "output_type": "stream",
     "text": [
      "14.6330150603\n"
     ]
    },
    {
     "data": {
      "text/latex": [
       "$98^\\circ51{}^\\prime51.8522{}^{\\prime\\prime}$"
      ],
      "text/plain": [
       "<Angle 98.8644033964465 deg>"
      ]
     },
     "execution_count": 14,
     "metadata": {},
     "output_type": "execute_result"
    }
   ],
   "source": [
    "# Moon check\n",
    "star1x, star1y = 389.3, 286\n",
    "star2x, star2y = 166.9,195\n",
    "\n",
    "dr = np.sqrt((star1x - star2x)**2 + (star1y - star2y)*2)\n",
    "print(dr * plate)\n",
    "\n",
    "regulus = SkyCoord('10:08:00', '12.0', unit=(u.hourangle, u.deg))\n",
    "moon = SkyCoord('49.90', '12.75', unit = (u.deg, u.deg))\n",
    "moon.separation(regulus)"
   ]
  },
  {
   "cell_type": "code",
   "execution_count": 16,
   "metadata": {
    "collapsed": false
   },
   "outputs": [
    {
     "data": {
      "text/plain": [
       "hms_tuple(h=3.0, m=19.0, s=36.000000000001577)"
      ]
     },
     "execution_count": 16,
     "metadata": {},
     "output_type": "execute_result"
    }
   ],
   "source": [
    "moon.ra.hms"
   ]
  },
  {
   "cell_type": "code",
   "execution_count": null,
   "metadata": {
    "collapsed": true
   },
   "outputs": [],
   "source": []
  }
 ],
 "metadata": {
  "anaconda-cloud": {},
  "kernelspec": {
   "display_name": "Python [default]",
   "language": "python",
   "name": "python3"
  },
  "language_info": {
   "codemirror_mode": {
    "name": "ipython",
    "version": 3
   },
   "file_extension": ".py",
   "mimetype": "text/x-python",
   "name": "python",
   "nbconvert_exporter": "python",
   "pygments_lexer": "ipython3",
   "version": "3.5.1"
  }
 },
 "nbformat": 4,
 "nbformat_minor": 2
}
