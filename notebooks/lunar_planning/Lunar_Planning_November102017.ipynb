{
 "cells": [
  {
   "cell_type": "markdown",
   "metadata": {},
   "source": [
    "# First thing to do, make a copy of this notebook under File->Make a Copy with some intelligent naming convention.\n",
    "\n",
    "---"
   ]
  },
  {
   "cell_type": "markdown",
   "metadata": {},
   "source": [
    "# Set your observing times here.\n",
    "\n",
    "## NB: This will be a broader window that you'll actually use. The final output will give you orbit-by-orbit pointing information. So you can use a subset of the orbits that are chosen here."
   ]
  },
  {
   "cell_type": "code",
   "execution_count": 1,
   "metadata": {
    "collapsed": false
   },
   "outputs": [],
   "source": [
    "from datetime import datetime\n",
    "import numpy as np\n",
    "tstart = '2017-11-10T00:00:00'\n",
    "tend = '2017-11-11T00:00:00'\n",
    " \n",
    "# Turn these into datetime objects\n",
    "\n",
    "tstart = datetime.strptime(tstart, '%Y-%m-%dT%H:%M:%S')\n",
    "tend = datetime.strptime(tend, '%Y-%m-%dT%H:%M:%S')\n",
    "\n",
    "#tstart.strftime('%Y:%j:%H:%M:%S')\n"
   ]
  },
  {
   "cell_type": "markdown",
   "metadata": {},
   "source": [
    "---\n",
    "# Step 1, get the nominal RA/Dec Position for the Moon at the start.\n",
    "\n",
    "## We use this to determine what the occultation times are."
   ]
  },
  {
   "cell_type": "code",
   "execution_count": 8,
   "metadata": {
    "collapsed": false
   },
   "outputs": [
    {
     "name": "stdout",
     "output_type": "stream",
     "text": [
      "../orbit_engine/lunar_314to315.sh\n"
     ]
    }
   ],
   "source": [
    "from skyfield.api import Loader\n",
    "from astropy.time import Time\n",
    "import astropy.units as u\n",
    "\n",
    "load = Loader('../../data')\n",
    "\n",
    "ts = load.timescale()\n",
    "planets = load('de436.bsp')\n",
    "\n",
    "astro_time = Time(tstart)\n",
    "t = ts.from_astropy(astro_time)\n",
    "moon, earth = planets['moon'], planets['earth']\n",
    "astrometric = earth.at(t).observe(moon)\n",
    "ra, dec, distance = astrometric.radec()\n",
    "\n",
    "\n",
    "occstring = \"./occ {0:0.4f} {1:0.4f} Latest_TLE.txt {2}:{3}:00:00:00 {4}:{5}:00:00:00 lunar_{3}_{5}.occ\".format(\n",
    "      ra.to(u.deg).value, dec.to(u.deg).value,\n",
    "      tstart.timetuple().tm_year, tstart.timetuple().tm_yday, \n",
    "      tend.timetuple().tm_year, tend.timetuple().tm_yday)\n",
    "\n",
    "\n",
    "outfile = '../orbit_engine/lunar_{0}to{1}.sh'.format(tstart.timetuple().tm_yday, tend.timetuple().tm_yday)\n",
    "print(outfile)\n",
    "\n",
    "f = open(outfile, 'w')\n",
    "f.write(occstring)\n",
    "f.close()\n",
    "\n",
    "\n",
    "import os\n",
    "import stat\n",
    "\n",
    "st = os.stat(outfile)\n",
    "os.chmod(outfile, st.st_mode | stat.S_IEXEC)\n",
    "\n"
   ]
  },
  {
   "cell_type": "markdown",
   "metadata": {},
   "source": [
    "---\n",
    "# Step 2: Go run the code that figures out the unocculted periods for the RA/Dec and the date range reported above.\n",
    "\n",
    "This works on lif. There are example shell scripts in the ../orbit_engine directory that use the version that Karl already compiled for the nuops users.\n",
    "\n",
    "First, get the latest TLE archive:\n",
    "\n",
    "`./get_latest_TLE.sh`\n",
    "\n",
    "Run the script that was produced above.\n"
   ]
  },
  {
   "cell_type": "markdown",
   "metadata": {},
   "source": [
    "# Step 3: Initialize your libraries and parse the resulting occultation file:\n"
   ]
  },
  {
   "cell_type": "code",
   "execution_count": 3,
   "metadata": {
    "collapsed": false
   },
   "outputs": [
    {
     "data": {
      "text/html": [
       "<div>\n",
       "<style>\n",
       "    .dataframe thead tr:only-child th {\n",
       "        text-align: right;\n",
       "    }\n",
       "\n",
       "    .dataframe thead th {\n",
       "        text-align: left;\n",
       "    }\n",
       "\n",
       "    .dataframe tbody tr th {\n",
       "        vertical-align: top;\n",
       "    }\n",
       "</style>\n",
       "<table border=\"1\" class=\"dataframe\">\n",
       "  <thead>\n",
       "    <tr style=\"text-align: right;\">\n",
       "      <th></th>\n",
       "      <th>visible</th>\n",
       "      <th>occulted</th>\n",
       "    </tr>\n",
       "  </thead>\n",
       "  <tbody>\n",
       "    <tr>\n",
       "      <th>0</th>\n",
       "      <td>2017-11-10 01:29:53</td>\n",
       "      <td>2017-11-10 02:25:55</td>\n",
       "    </tr>\n",
       "    <tr>\n",
       "      <th>1</th>\n",
       "      <td>2017-11-10 03:06:32</td>\n",
       "      <td>2017-11-10 04:02:34</td>\n",
       "    </tr>\n",
       "    <tr>\n",
       "      <th>2</th>\n",
       "      <td>2017-11-10 04:43:11</td>\n",
       "      <td>2017-11-10 05:39:14</td>\n",
       "    </tr>\n",
       "    <tr>\n",
       "      <th>3</th>\n",
       "      <td>2017-11-10 06:19:50</td>\n",
       "      <td>2017-11-10 07:15:53</td>\n",
       "    </tr>\n",
       "    <tr>\n",
       "      <th>4</th>\n",
       "      <td>2017-11-10 07:56:30</td>\n",
       "      <td>2017-11-10 08:52:32</td>\n",
       "    </tr>\n",
       "    <tr>\n",
       "      <th>5</th>\n",
       "      <td>2017-11-10 09:33:09</td>\n",
       "      <td>2017-11-10 10:29:11</td>\n",
       "    </tr>\n",
       "    <tr>\n",
       "      <th>6</th>\n",
       "      <td>2017-11-10 11:09:48</td>\n",
       "      <td>2017-11-10 12:05:51</td>\n",
       "    </tr>\n",
       "    <tr>\n",
       "      <th>7</th>\n",
       "      <td>2017-11-10 12:46:27</td>\n",
       "      <td>2017-11-10 13:42:30</td>\n",
       "    </tr>\n",
       "    <tr>\n",
       "      <th>8</th>\n",
       "      <td>2017-11-10 14:23:06</td>\n",
       "      <td>2017-11-10 15:19:09</td>\n",
       "    </tr>\n",
       "    <tr>\n",
       "      <th>9</th>\n",
       "      <td>2017-11-10 15:59:45</td>\n",
       "      <td>2017-11-10 16:55:48</td>\n",
       "    </tr>\n",
       "    <tr>\n",
       "      <th>10</th>\n",
       "      <td>2017-11-10 17:36:24</td>\n",
       "      <td>2017-11-10 18:32:27</td>\n",
       "    </tr>\n",
       "    <tr>\n",
       "      <th>11</th>\n",
       "      <td>2017-11-10 19:13:03</td>\n",
       "      <td>2017-11-10 20:09:07</td>\n",
       "    </tr>\n",
       "    <tr>\n",
       "      <th>12</th>\n",
       "      <td>2017-11-10 20:49:42</td>\n",
       "      <td>2017-11-10 21:45:46</td>\n",
       "    </tr>\n",
       "    <tr>\n",
       "      <th>13</th>\n",
       "      <td>2017-11-10 22:26:21</td>\n",
       "      <td>2017-11-10 23:22:25</td>\n",
       "    </tr>\n",
       "  </tbody>\n",
       "</table>\n",
       "</div>"
      ],
      "text/plain": [
       "                visible             occulted\n",
       "0   2017-11-10 01:29:53  2017-11-10 02:25:55\n",
       "1   2017-11-10 03:06:32  2017-11-10 04:02:34\n",
       "2   2017-11-10 04:43:11  2017-11-10 05:39:14\n",
       "3   2017-11-10 06:19:50  2017-11-10 07:15:53\n",
       "4   2017-11-10 07:56:30  2017-11-10 08:52:32\n",
       "5   2017-11-10 09:33:09  2017-11-10 10:29:11\n",
       "6   2017-11-10 11:09:48  2017-11-10 12:05:51\n",
       "7   2017-11-10 12:46:27  2017-11-10 13:42:30\n",
       "8   2017-11-10 14:23:06  2017-11-10 15:19:09\n",
       "9   2017-11-10 15:59:45  2017-11-10 16:55:48\n",
       "10  2017-11-10 17:36:24  2017-11-10 18:32:27\n",
       "11  2017-11-10 19:13:03  2017-11-10 20:09:07\n",
       "12  2017-11-10 20:49:42  2017-11-10 21:45:46\n",
       "13  2017-11-10 22:26:21  2017-11-10 23:22:25"
      ]
     },
     "execution_count": 3,
     "metadata": {},
     "output_type": "execute_result"
    }
   ],
   "source": [
    "from nustar_planning import io\n",
    "occfile= \"../orbit_engine/lunar_{0}_{1}.occ\".format(tstart.timetuple().tm_yday,tend.timetuple().tm_yday )\n",
    "\n",
    "#print(occfile)\n",
    "orbits = io.parse_occ(occfile)\n",
    "\n",
    "# NB: The \"head\" command here only shows the first couple of rows. Do a \"print(orbits)\" to see them all.\n",
    "orbits\n"
   ]
  },
  {
   "cell_type": "code",
   "execution_count": 5,
   "metadata": {
    "collapsed": false
   },
   "outputs": [
    {
     "data": {
      "text/plain": [
       "<module 'nustar_planning.lunar_planning' from '/Users/bwgref/anaconda/lib/python3.5/site-packages/nustar_planning-0.1.dev65-py3.5.egg/nustar_planning/lunar_planning.py'>"
      ]
     },
     "execution_count": 5,
     "metadata": {},
     "output_type": "execute_result"
    }
   ],
   "source": [
    "#from nustar_planning.lunar_planning import position, position_shift\n",
    "import nustar_planning.lunar_planning as lunar_planning\n",
    "from importlib import reload\n",
    "reload(lunar_planning)"
   ]
  },
  {
   "cell_type": "code",
   "execution_count": 6,
   "metadata": {
    "collapsed": false
   },
   "outputs": [
    {
     "data": {
      "text/html": [
       "<div>\n",
       "<style>\n",
       "    .dataframe thead tr:only-child th {\n",
       "        text-align: right;\n",
       "    }\n",
       "\n",
       "    .dataframe thead th {\n",
       "        text-align: left;\n",
       "    }\n",
       "\n",
       "    .dataframe tbody tr th {\n",
       "        vertical-align: top;\n",
       "    }\n",
       "</style>\n",
       "<table border=\"1\" class=\"dataframe\">\n",
       "  <thead>\n",
       "    <tr style=\"text-align: right;\">\n",
       "      <th></th>\n",
       "      <th>index</th>\n",
       "      <th>visible</th>\n",
       "      <th>occulted</th>\n",
       "    </tr>\n",
       "  </thead>\n",
       "  <tbody>\n",
       "    <tr>\n",
       "      <th>0</th>\n",
       "      <td>11</td>\n",
       "      <td>2017-11-10 19:13:03</td>\n",
       "      <td>2017-11-10 20:09:07</td>\n",
       "    </tr>\n",
       "  </tbody>\n",
       "</table>\n",
       "</div>"
      ],
      "text/plain": [
       "   index              visible             occulted\n",
       "0     11  2017-11-10 19:13:03  2017-11-10 20:09:07"
      ]
     },
     "execution_count": 6,
     "metadata": {},
     "output_type": "execute_result"
    }
   ],
   "source": [
    "reload(lunar_planning)\n",
    "sub = orbits.iloc[11:12].reset_index()\n",
    "sub.head()\n",
    "#lunar_planning.position(sub, steps = 5, parallax_correction=False)"
   ]
  },
  {
   "cell_type": "code",
   "execution_count": 9,
   "metadata": {
    "collapsed": false,
    "scrolled": false
   },
   "outputs": [
    {
     "name": "stdout",
     "output_type": "stream",
     "text": [
      "2017:314:19:08:03 RA: 140.90112  Dec: 15.43836\n",
      "\n",
      "2017:314:19:10:15 RA: 141.00035  Dec: 15.46896\n",
      "\n",
      "2017:314:19:12:57 RA: 141.08768  Dec: 15.52305\n",
      "\n",
      "2017:314:19:16:51 RA: 141.08397  Dec: 15.62348\n",
      "\n",
      "2017:314:19:23:00 RA: 141.00202  Dec: 15.68555\n",
      "\n",
      "2017:314:19:26:39 RA: 140.90697  Dec: 15.72968\n",
      "\n",
      "2017:314:19:29:21 RA: 140.80822  Dec: 15.76397\n",
      "\n",
      "2017:314:19:31:36 RA: 140.70771  Dec: 15.79175\n",
      "\n",
      "2017:314:19:33:36 RA: 140.60595  Dec: 15.81467\n",
      "\n",
      "2017:314:19:35:27 RA: 140.50354  Dec: 15.83349\n",
      "\n",
      "2017:314:19:37:12 RA: 140.39990  Dec: 15.84880\n",
      "\n",
      "2017:314:19:38:54 RA: 140.29371  Dec: 15.86092\n",
      "\n",
      "2017:314:19:40:36 RA: 140.18969  Dec: 15.86944\n",
      "\n",
      "2017:314:19:42:15 RA: 140.08310  Dec: 15.87473\n",
      "\n",
      "2017:314:19:43:57 RA: 139.97866  Dec: 15.87636\n",
      "\n",
      "2017:314:19:45:39 RA: 139.87215  Dec: 15.87404\n",
      "\n",
      "2017:314:19:47:27 RA: 139.76618  Dec: 15.86708\n",
      "\n",
      "2017:314:19:49:21 RA: 139.66152  Dec: 15.85444\n",
      "\n",
      "2017:314:19:51:24 RA: 139.55875  Dec: 15.83417\n",
      "\n",
      "2017:314:19:53:42 RA: 139.46000  Dec: 15.80207\n",
      "\n",
      "2017:314:19:56:27 RA: 139.37340  Dec: 15.74538\n",
      "\n",
      "2017:314:20:00:15 RA: 139.36154  Dec: 15.64532\n",
      "\n",
      "2017:314:20:05:42 RA: 139.43143  Dec: 15.57000\n",
      "\n",
      "2017:314:20:09:24 RA: 139.51881  Dec: 15.51489\n",
      "\n",
      "\n"
     ]
    }
   ],
   "source": [
    "# PA == 0 (default), Rmoon = 940 arcseconds (default), 6 arcminutes maximum drift (default) and\n",
    "# no minimum dwell period (default)\n",
    "reload(lunar_planning)\n",
    "lunar_planning.position_shift(sub, parallax_correction=True, pa = 172.0*u.deg, dt = 3*u.s,\n",
    "                              outfile='lunar_20171110_v2.txt', show=True)"
   ]
  },
  {
   "cell_type": "code",
   "execution_count": null,
   "metadata": {
    "collapsed": true
   },
   "outputs": [],
   "source": []
  }
 ],
 "metadata": {
  "anaconda-cloud": {},
  "kernelspec": {
   "display_name": "Python [default]",
   "language": "python",
   "name": "python3"
  },
  "language_info": {
   "codemirror_mode": {
    "name": "ipython",
    "version": 3
   },
   "file_extension": ".py",
   "mimetype": "text/x-python",
   "name": "python",
   "nbconvert_exporter": "python",
   "pygments_lexer": "ipython3",
   "version": "3.5.2"
  }
 },
 "nbformat": 4,
 "nbformat_minor": 2
}
