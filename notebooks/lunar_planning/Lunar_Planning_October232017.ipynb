{
 "cells": [
  {
   "cell_type": "markdown",
   "metadata": {},
   "source": [
    "# First thing to do, make a copy of this notebook under File->Make a Copy with some intelligent naming convention.\n",
    "\n",
    "---"
   ]
  },
  {
   "cell_type": "markdown",
   "metadata": {},
   "source": [
    "# Set your observing times here.\n",
    "\n",
    "## NB: This will be a broader window that you'll actually use. The final output will give you orbit-by-orbit pointing information. So you can use a subset of the orbits that are chosen here."
   ]
  },
  {
   "cell_type": "code",
   "execution_count": 1,
   "metadata": {
    "collapsed": false
   },
   "outputs": [],
   "source": [
    "from datetime import datetime\n",
    "import numpy as np\n",
    "tstart = '2017-10-23T00:00:00'\n",
    "tend = '2017-10-24T00:00:00'\n",
    " \n",
    "# Turn these into datetime objects\n",
    "\n",
    "tstart = datetime.strptime(tstart, '%Y-%m-%dT%H:%M:%S')\n",
    "tend = datetime.strptime(tend, '%Y-%m-%dT%H:%M:%S')                "
   ]
  },
  {
   "cell_type": "markdown",
   "metadata": {},
   "source": [
    "---\n",
    "# Step 1, get the nominal RA/Dec Position for the Moon at the start.\n",
    "\n",
    "## We use this to determine what the occultation times are."
   ]
  },
  {
   "cell_type": "code",
   "execution_count": 2,
   "metadata": {
    "collapsed": false
   },
   "outputs": [
    {
     "name": "stdout",
     "output_type": "stream",
     "text": [
      "../orbit_engine/lunar_296to297.sh\n"
     ]
    }
   ],
   "source": [
    "from skyfield.api import Loader\n",
    "from astropy.time import Time\n",
    "import astropy.units as u\n",
    "\n",
    "load = Loader('../../data')\n",
    "\n",
    "ts = load.timescale()\n",
    "planets = load('de436.bsp')\n",
    "\n",
    "astro_time = Time(tstart)\n",
    "t = ts.from_astropy(astro_time)\n",
    "moon, earth = planets['moon'], planets['earth']\n",
    "astrometric = earth.at(t).observe(moon)\n",
    "ra, dec, distance = astrometric.radec()\n",
    "\n",
    "\n",
    "occstring = \"./occ {0:0.4f} {1:0.4f} Latest_TLE.txt {2}:{3}:00:00:00 {4}:{5}:00:00:00 lunar_{3}_{5}.occ\".format(\n",
    "      ra.to(u.deg).value, dec.to(u.deg).value,\n",
    "      tstart.timetuple().tm_year, tstart.timetuple().tm_yday, \n",
    "      tend.timetuple().tm_year, tend.timetuple().tm_yday)\n",
    "\n",
    "\n",
    "outfile = '../orbit_engine/lunar_{0}to{1}.sh'.format(tstart.timetuple().tm_yday, tend.timetuple().tm_yday)\n",
    "print(outfile)\n",
    "\n",
    "f = open(outfile, 'w')\n",
    "f.write(occstring)\n",
    "f.close()\n",
    "\n",
    "\n",
    "import os\n",
    "import stat\n",
    "\n",
    "st = os.stat(outfile)\n",
    "os.chmod(outfile, st.st_mode | stat.S_IEXEC)\n",
    "\n"
   ]
  },
  {
   "cell_type": "markdown",
   "metadata": {},
   "source": [
    "---\n",
    "# Step 2: Go run the code that figures out the unocculted periods for the RA/Dec and the date range reported above.\n",
    "\n",
    "This works on lif. There are example shell scripts in the ../orbit_engine directory that use the version that Karl already compiled for the nuops users.\n",
    "\n",
    "First, get the latest TLE archive:\n",
    "\n",
    "`./get_latest_TLE.sh`\n",
    "\n",
    "Run the script that was produced above.\n"
   ]
  },
  {
   "cell_type": "markdown",
   "metadata": {},
   "source": [
    "# Step 3: Initialize your libraries and parse the resulting occultation file:\n"
   ]
  },
  {
   "cell_type": "code",
   "execution_count": 3,
   "metadata": {
    "collapsed": false
   },
   "outputs": [
    {
     "data": {
      "text/html": [
       "<div>\n",
       "<style>\n",
       "    .dataframe thead tr:only-child th {\n",
       "        text-align: right;\n",
       "    }\n",
       "\n",
       "    .dataframe thead th {\n",
       "        text-align: left;\n",
       "    }\n",
       "\n",
       "    .dataframe tbody tr th {\n",
       "        vertical-align: top;\n",
       "    }\n",
       "</style>\n",
       "<table border=\"1\" class=\"dataframe\">\n",
       "  <thead>\n",
       "    <tr style=\"text-align: right;\">\n",
       "      <th></th>\n",
       "      <th>visible</th>\n",
       "      <th>occulted</th>\n",
       "    </tr>\n",
       "  </thead>\n",
       "  <tbody>\n",
       "    <tr>\n",
       "      <th>0</th>\n",
       "      <td>2017-10-23 00:38:39</td>\n",
       "      <td>2017-10-23 01:35:01</td>\n",
       "    </tr>\n",
       "    <tr>\n",
       "      <th>1</th>\n",
       "      <td>2017-10-23 02:15:19</td>\n",
       "      <td>2017-10-23 03:11:41</td>\n",
       "    </tr>\n",
       "    <tr>\n",
       "      <th>2</th>\n",
       "      <td>2017-10-23 03:51:58</td>\n",
       "      <td>2017-10-23 04:48:20</td>\n",
       "    </tr>\n",
       "    <tr>\n",
       "      <th>3</th>\n",
       "      <td>2017-10-23 05:28:38</td>\n",
       "      <td>2017-10-23 06:25:00</td>\n",
       "    </tr>\n",
       "    <tr>\n",
       "      <th>4</th>\n",
       "      <td>2017-10-23 07:05:17</td>\n",
       "      <td>2017-10-23 08:01:39</td>\n",
       "    </tr>\n",
       "  </tbody>\n",
       "</table>\n",
       "</div>"
      ],
      "text/plain": [
       "               visible             occulted\n",
       "0  2017-10-23 00:38:39  2017-10-23 01:35:01\n",
       "1  2017-10-23 02:15:19  2017-10-23 03:11:41\n",
       "2  2017-10-23 03:51:58  2017-10-23 04:48:20\n",
       "3  2017-10-23 05:28:38  2017-10-23 06:25:00\n",
       "4  2017-10-23 07:05:17  2017-10-23 08:01:39"
      ]
     },
     "execution_count": 3,
     "metadata": {},
     "output_type": "execute_result"
    }
   ],
   "source": [
    "from nustar_planning import io\n",
    "occfile= \"../orbit_engine/lunar_{0}_{1}.occ\".format(tstart.timetuple().tm_yday,tend.timetuple().tm_yday )\n",
    "\n",
    "#print(occfile)\n",
    "orbits = io.parse_occ(occfile)\n",
    "\n",
    "# NB: The \"head\" command here only shows the first couple of rows. Do a \"print(orbits)\" to see them all.\n",
    "orbits.head()\n"
   ]
  },
  {
   "cell_type": "code",
   "execution_count": 4,
   "metadata": {
    "collapsed": false
   },
   "outputs": [
    {
     "data": {
      "text/plain": [
       "<module 'nustar_planning.lunar_planning' from '/Users/bwgref/science/local/anaconda/lib/python3.5/site-packages/nustar_planning-0.1.dev49-py3.5.egg/nustar_planning/lunar_planning.py'>"
      ]
     },
     "execution_count": 4,
     "metadata": {},
     "output_type": "execute_result"
    }
   ],
   "source": [
    "#from nustar_planning.lunar_planning import position, position_shift\n",
    "import nustar_planning.lunar_planning as lunar_planning\n",
    "from importlib import reload\n",
    "reload(lunar_planning)"
   ]
  },
  {
   "cell_type": "code",
   "execution_count": 12,
   "metadata": {
    "collapsed": false
   },
   "outputs": [
    {
     "name": "stdout",
     "output_type": "stream",
     "text": [
      "Aim Time            RA         Dec\n",
      "2017-10-23T07:05:17 248.45481  -17.11902\n",
      "2017-10-23T07:24:04.333333 248.61562  -17.14604\n",
      "2017-10-23T07:42:51.666667 248.77645  -17.17294\n"
     ]
    }
   ],
   "source": [
    "reload(lunar_planning)\n",
    "sub = orbits.iloc[4:5].reset_index()\n",
    "lunar_planning.position(sub, steps = 3)"
   ]
  },
  {
   "cell_type": "code",
   "execution_count": 27,
   "metadata": {
    "collapsed": false,
    "scrolled": false
   },
   "outputs": [
    {
     "name": "stdout",
     "output_type": "stream",
     "text": [
      "Start of dwell: 2017-10-23T07:00:17\n",
      "End of dwell: 2017-10-23T07:02:23\n",
      "\n",
      "Time used to aim: 2017-10-23T07:01:20\n",
      "Dwell Duration (sec): 126.00 \n",
      "  Dwell Drift (arcmin): 6.03\n",
      "\n",
      "2017-10-23T07:00:17 RA: 249.44186  Dec: -16.78928\n",
      "\n",
      "Start of dwell: 2017-10-23T07:02:23\n",
      "End of dwell: 2017-10-23T07:04:50\n",
      "\n",
      "Time used to aim: 2017-10-23T07:03:36.500000\n",
      "Dwell Duration (sec): 147.00 \n",
      "  Dwell Drift (arcmin): 6.09\n",
      "\n",
      "2017-10-23T07:02:23 RA: 249.52877  Dec: -16.84752\n",
      "\n",
      "Start of dwell: 2017-10-23T07:04:50\n",
      "End of dwell: 2017-10-23T07:07:50\n",
      "\n",
      "Time used to aim: 2017-10-23T07:06:20\n",
      "Dwell Duration (sec): 180.00 \n",
      "  Dwell Drift (arcmin): 6.05\n",
      "\n",
      "2017-10-23T07:04:50 RA: 249.60213  Dec: -16.92011\n",
      "\n",
      "Start of dwell: 2017-10-23T07:07:50\n",
      "End of dwell: 2017-10-23T07:11:47\n",
      "\n",
      "Time used to aim: 2017-10-23T07:09:48.500000\n",
      "Dwell Duration (sec): 237.00 \n",
      "  Dwell Drift (arcmin): 6.03\n",
      "\n",
      "2017-10-23T07:07:50 RA: 249.64013  Dec: -17.01381\n",
      "\n",
      "Start of dwell: 2017-10-23T07:11:47\n",
      "End of dwell: 2017-10-23T07:16:08\n",
      "\n",
      "Time used to aim: 2017-10-23T07:13:57.500000\n",
      "Dwell Duration (sec): 261.00 \n",
      "  Dwell Drift (arcmin): 6.03\n",
      "\n",
      "2017-10-23T07:11:47 RA: 249.60406  Dec: -17.10816\n",
      "\n",
      "Start of dwell: 2017-10-23T07:16:08\n",
      "End of dwell: 2017-10-23T07:19:32\n",
      "\n",
      "Time used to aim: 2017-10-23T07:17:50\n",
      "Dwell Duration (sec): 204.00 \n",
      "  Dwell Drift (arcmin): 6.03\n",
      "\n",
      "2017-10-23T07:16:08 RA: 249.52188  Dec: -17.17087\n",
      "\n",
      "Start of dwell: 2017-10-23T07:19:32\n",
      "End of dwell: 2017-10-23T07:22:17\n",
      "\n",
      "Time used to aim: 2017-10-23T07:20:54.500000\n",
      "Dwell Duration (sec): 165.00 \n",
      "  Dwell Drift (arcmin): 6.11\n",
      "\n",
      "2017-10-23T07:19:32 RA: 249.42438  Dec: -17.21218\n",
      "\n",
      "Start of dwell: 2017-10-23T07:22:17\n",
      "End of dwell: 2017-10-23T07:24:38\n",
      "\n",
      "Time used to aim: 2017-10-23T07:23:27.500000\n",
      "Dwell Duration (sec): 141.00 \n",
      "  Dwell Drift (arcmin): 6.08\n",
      "\n",
      "2017-10-23T07:22:17 RA: 249.32209  Dec: -17.23972\n",
      "\n",
      "Start of dwell: 2017-10-23T07:24:38\n",
      "End of dwell: 2017-10-23T07:26:44\n",
      "\n",
      "Time used to aim: 2017-10-23T07:25:41\n",
      "Dwell Duration (sec): 126.00 \n",
      "  Dwell Drift (arcmin): 6.03\n",
      "\n",
      "2017-10-23T07:24:38 RA: 249.21835  Dec: -17.25770\n",
      "\n",
      "Start of dwell: 2017-10-23T07:26:44\n",
      "End of dwell: 2017-10-23T07:28:41\n",
      "\n",
      "Time used to aim: 2017-10-23T07:27:42.500000\n",
      "Dwell Duration (sec): 117.00 \n",
      "  Dwell Drift (arcmin): 6.02\n",
      "\n",
      "2017-10-23T07:26:44 RA: 249.11369  Dec: -17.26849\n",
      "\n",
      "Start of dwell: 2017-10-23T07:28:41\n",
      "End of dwell: 2017-10-23T07:30:32\n",
      "\n",
      "Time used to aim: 2017-10-23T07:29:36.500000\n",
      "Dwell Duration (sec): 111.00 \n",
      "  Dwell Drift (arcmin): 6.01\n",
      "\n",
      "2017-10-23T07:28:41 RA: 249.00887  Dec: -17.27332\n",
      "\n",
      "Start of dwell: 2017-10-23T07:30:32\n",
      "End of dwell: 2017-10-23T07:32:20\n",
      "\n",
      "Time used to aim: 2017-10-23T07:31:26\n",
      "Dwell Duration (sec): 108.00 \n",
      "  Dwell Drift (arcmin): 6.03\n",
      "\n",
      "2017-10-23T07:30:32 RA: 248.90346  Dec: -17.27292\n",
      "\n",
      "Start of dwell: 2017-10-23T07:32:20\n",
      "End of dwell: 2017-10-23T07:34:08\n",
      "\n",
      "Time used to aim: 2017-10-23T07:33:14\n",
      "Dwell Duration (sec): 108.00 \n",
      "  Dwell Drift (arcmin): 6.13\n",
      "\n",
      "2017-10-23T07:32:20 RA: 248.79642  Dec: -17.26752\n",
      "\n",
      "Start of dwell: 2017-10-23T07:34:08\n",
      "End of dwell: 2017-10-23T07:35:56\n",
      "\n",
      "Time used to aim: 2017-10-23T07:35:02\n",
      "Dwell Duration (sec): 108.00 \n",
      "  Dwell Drift (arcmin): 6.15\n",
      "\n",
      "2017-10-23T07:34:08 RA: 248.68951  Dec: -17.25722\n",
      "\n",
      "Start of dwell: 2017-10-23T07:35:56\n",
      "End of dwell: 2017-10-23T07:37:44\n",
      "\n",
      "Time used to aim: 2017-10-23T07:36:50\n",
      "Dwell Duration (sec): 108.00 \n",
      "  Dwell Drift (arcmin): 6.08\n",
      "\n",
      "2017-10-23T07:35:56 RA: 248.58448  Dec: -17.24223\n",
      "\n",
      "Start of dwell: 2017-10-23T07:37:44\n",
      "End of dwell: 2017-10-23T07:39:35\n",
      "\n",
      "Time used to aim: 2017-10-23T07:38:39.500000\n",
      "Dwell Duration (sec): 111.00 \n",
      "  Dwell Drift (arcmin): 6.08\n",
      "\n",
      "2017-10-23T07:37:44 RA: 248.48028  Dec: -17.22218\n",
      "\n",
      "Start of dwell: 2017-10-23T07:39:35\n",
      "End of dwell: 2017-10-23T07:41:32\n",
      "\n",
      "Time used to aim: 2017-10-23T07:40:33.500000\n",
      "Dwell Duration (sec): 117.00 \n",
      "  Dwell Drift (arcmin): 6.13\n",
      "\n",
      "2017-10-23T07:39:35 RA: 248.37656  Dec: -17.19637\n",
      "\n",
      "Start of dwell: 2017-10-23T07:41:32\n",
      "End of dwell: 2017-10-23T07:43:35\n",
      "\n",
      "Time used to aim: 2017-10-23T07:42:33.500000\n",
      "Dwell Duration (sec): 123.00 \n",
      "  Dwell Drift (arcmin): 6.04\n",
      "\n",
      "2017-10-23T07:41:32 RA: 248.27641  Dec: -17.16458\n",
      "\n",
      "Start of dwell: 2017-10-23T07:43:35\n",
      "End of dwell: 2017-10-23T07:45:50\n",
      "\n",
      "Time used to aim: 2017-10-23T07:44:42.500000\n",
      "Dwell Duration (sec): 135.00 \n",
      "  Dwell Drift (arcmin): 6.04\n",
      "\n",
      "2017-10-23T07:43:35 RA: 248.17946  Dec: -17.12500\n",
      "\n",
      "Start of dwell: 2017-10-23T07:45:50\n",
      "End of dwell: 2017-10-23T07:48:26\n",
      "\n",
      "Time used to aim: 2017-10-23T07:47:08\n",
      "Dwell Duration (sec): 156.00 \n",
      "  Dwell Drift (arcmin): 6.08\n",
      "\n",
      "2017-10-23T07:45:50 RA: 248.08748  Dec: -17.07440\n",
      "\n",
      "Start of dwell: 2017-10-23T07:48:26\n",
      "End of dwell: 2017-10-23T07:51:38\n",
      "\n",
      "Time used to aim: 2017-10-23T07:50:02\n",
      "Dwell Duration (sec): 192.00 \n",
      "  Dwell Drift (arcmin): 6.07\n",
      "\n",
      "2017-10-23T07:48:26 RA: 248.00824  Dec: -17.00733\n",
      "\n",
      "Start of dwell: 2017-10-23T07:51:38\n",
      "End of dwell: 2017-10-23T07:55:56\n",
      "\n",
      "Time used to aim: 2017-10-23T07:53:47\n",
      "Dwell Duration (sec): 258.00 \n",
      "  Dwell Drift (arcmin): 6.05\n",
      "\n",
      "2017-10-23T07:51:38 RA: 247.96749  Dec: -16.91425\n",
      "\n",
      "Start of dwell: 2017-10-23T07:55:56\n",
      "End of dwell: 2017-10-23T08:00:23\n",
      "\n",
      "Time used to aim: 2017-10-23T07:58:09.500000\n",
      "Dwell Duration (sec): 267.00 \n",
      "  Dwell Drift (arcmin): 6.03\n",
      "\n",
      "2017-10-23T07:55:56 RA: 248.00916  Dec: -16.82201\n",
      "\n",
      "Start of dwell: 2017-10-23T08:00:23\n",
      "End of dwell: 2017-10-23T08:03:38\n",
      "\n",
      "Time used to aim: 2017-10-23T08:02:00.500000\n",
      "Dwell Duration (sec): 195.00 \n",
      "  Dwell Drift (arcmin): 6.01\n",
      "\n",
      "2017-10-23T08:00:23 RA: 248.09286  Dec: -16.76188\n",
      "\n",
      "Start of dwell: 2017-10-23T08:03:38\n",
      "End of dwell: 2017-10-23T08:06:14\n",
      "\n",
      "Time used to aim: 2017-10-23T08:04:56\n",
      "Dwell Duration (sec): 156.00 \n",
      "  Dwell Drift (arcmin): 6.12\n",
      "\n",
      "2017-10-23T08:03:38 RA: 248.19020  Dec: -16.72031\n",
      "\n",
      "\n"
     ]
    }
   ],
   "source": [
    "# PA == 0 (default), Rmoon = 940 arcseconds (default), 6 arcminutes maximum drift (default) and\n",
    "# no minimum dwell period (default)\n",
    "reload(lunar_planning)\n",
    "lunar_planning.position_shift(sub, parallax_correction=True, pa = 202.3*u.deg, dt = 3*u.s, diag=True,\n",
    "                              outfile='lunar_20171023.txt')"
   ]
  },
  {
   "cell_type": "code",
   "execution_count": null,
   "metadata": {
    "collapsed": true
   },
   "outputs": [],
   "source": []
  }
 ],
 "metadata": {
  "anaconda-cloud": {},
  "kernelspec": {
   "display_name": "Python [default]",
   "language": "python",
   "name": "python3"
  },
  "language_info": {
   "codemirror_mode": {
    "name": "ipython",
    "version": 3
   },
   "file_extension": ".py",
   "mimetype": "text/x-python",
   "name": "python",
   "nbconvert_exporter": "python",
   "pygments_lexer": "ipython3",
   "version": "3.5.1"
  }
 },
 "nbformat": 4,
 "nbformat_minor": 2
}
