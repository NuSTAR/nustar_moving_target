{
 "cells": [
  {
   "cell_type": "markdown",
   "metadata": {},
   "source": [
    "# First thing to do, make a copy of this notebook under File->Make a Copy with some intelligent naming convention.\n",
    "\n",
    "---"
   ]
  },
  {
   "cell_type": "markdown",
   "metadata": {},
   "source": [
    "# Set your observing times here.\n",
    "\n",
    "## NB: This will be a broader window that you'll actually use. The final output will give you orbit-by-orbit pointing information. So you can use a subset of the orbits that are chosen here."
   ]
  },
  {
   "cell_type": "code",
   "execution_count": 1,
   "metadata": {
    "collapsed": false
   },
   "outputs": [],
   "source": [
    "from datetime import datetime\n",
    "import numpy as np\n",
    "tstart = '2017-10-23T00:00:00'\n",
    "tend = '2017-10-24T00:00:00'\n",
    " \n",
    "# Turn these into datetime objects\n",
    "\n",
    "tstart = datetime.strptime(tstart, '%Y-%m-%dT%H:%M:%S')\n",
    "tend = datetime.strptime(tend, '%Y-%m-%dT%H:%M:%S')\n",
    "\n",
    "#tstart.strftime('%Y:%j:%H:%M:%S')\n"
   ]
  },
  {
   "cell_type": "markdown",
   "metadata": {},
   "source": [
    "---\n",
    "# Step 1, get the nominal RA/Dec Position for the Moon at the start.\n",
    "\n",
    "## We use this to determine what the occultation times are."
   ]
  },
  {
   "cell_type": "code",
   "execution_count": 2,
   "metadata": {
    "collapsed": false
   },
   "outputs": [
    {
     "name": "stdout",
     "output_type": "stream",
     "text": [
      "../orbit_engine/lunar_296to297.sh\n"
     ]
    }
   ],
   "source": [
    "from skyfield.api import Loader\n",
    "from astropy.time import Time\n",
    "import astropy.units as u\n",
    "\n",
    "load = Loader('../../data')\n",
    "\n",
    "ts = load.timescale()\n",
    "planets = load('de436.bsp')\n",
    "\n",
    "astro_time = Time(tstart)\n",
    "t = ts.from_astropy(astro_time)\n",
    "moon, earth = planets['moon'], planets['earth']\n",
    "astrometric = earth.at(t).observe(moon)\n",
    "ra, dec, distance = astrometric.radec()\n",
    "\n",
    "\n",
    "occstring = \"./occ {0:0.4f} {1:0.4f} Latest_TLE.txt {2}:{3}:00:00:00 {4}:{5}:00:00:00 lunar_{3}_{5}.occ\".format(\n",
    "      ra.to(u.deg).value, dec.to(u.deg).value,\n",
    "      tstart.timetuple().tm_year, tstart.timetuple().tm_yday, \n",
    "      tend.timetuple().tm_year, tend.timetuple().tm_yday)\n",
    "\n",
    "\n",
    "outfile = '../orbit_engine/lunar_{0}to{1}.sh'.format(tstart.timetuple().tm_yday, tend.timetuple().tm_yday)\n",
    "print(outfile)\n",
    "\n",
    "f = open(outfile, 'w')\n",
    "f.write(occstring)\n",
    "f.close()\n",
    "\n",
    "\n",
    "import os\n",
    "import stat\n",
    "\n",
    "st = os.stat(outfile)\n",
    "os.chmod(outfile, st.st_mode | stat.S_IEXEC)\n",
    "\n"
   ]
  },
  {
   "cell_type": "markdown",
   "metadata": {},
   "source": [
    "---\n",
    "# Step 2: Go run the code that figures out the unocculted periods for the RA/Dec and the date range reported above.\n",
    "\n",
    "This works on lif. There are example shell scripts in the ../orbit_engine directory that use the version that Karl already compiled for the nuops users.\n",
    "\n",
    "First, get the latest TLE archive:\n",
    "\n",
    "`./get_latest_TLE.sh`\n",
    "\n",
    "Run the script that was produced above.\n"
   ]
  },
  {
   "cell_type": "markdown",
   "metadata": {},
   "source": [
    "# Step 3: Initialize your libraries and parse the resulting occultation file:\n"
   ]
  },
  {
   "cell_type": "code",
   "execution_count": 3,
   "metadata": {
    "collapsed": false
   },
   "outputs": [
    {
     "data": {
      "text/html": [
       "<div>\n",
       "<style>\n",
       "    .dataframe thead tr:only-child th {\n",
       "        text-align: right;\n",
       "    }\n",
       "\n",
       "    .dataframe thead th {\n",
       "        text-align: left;\n",
       "    }\n",
       "\n",
       "    .dataframe tbody tr th {\n",
       "        vertical-align: top;\n",
       "    }\n",
       "</style>\n",
       "<table border=\"1\" class=\"dataframe\">\n",
       "  <thead>\n",
       "    <tr style=\"text-align: right;\">\n",
       "      <th></th>\n",
       "      <th>visible</th>\n",
       "      <th>occulted</th>\n",
       "    </tr>\n",
       "  </thead>\n",
       "  <tbody>\n",
       "    <tr>\n",
       "      <th>0</th>\n",
       "      <td>2017-10-23 00:38:39</td>\n",
       "      <td>2017-10-23 01:35:02</td>\n",
       "    </tr>\n",
       "    <tr>\n",
       "      <th>1</th>\n",
       "      <td>2017-10-23 02:15:19</td>\n",
       "      <td>2017-10-23 03:11:41</td>\n",
       "    </tr>\n",
       "    <tr>\n",
       "      <th>2</th>\n",
       "      <td>2017-10-23 03:51:58</td>\n",
       "      <td>2017-10-23 04:48:20</td>\n",
       "    </tr>\n",
       "    <tr>\n",
       "      <th>3</th>\n",
       "      <td>2017-10-23 05:28:38</td>\n",
       "      <td>2017-10-23 06:25:00</td>\n",
       "    </tr>\n",
       "    <tr>\n",
       "      <th>4</th>\n",
       "      <td>2017-10-23 07:05:17</td>\n",
       "      <td>2017-10-23 08:01:39</td>\n",
       "    </tr>\n",
       "  </tbody>\n",
       "</table>\n",
       "</div>"
      ],
      "text/plain": [
       "               visible             occulted\n",
       "0  2017-10-23 00:38:39  2017-10-23 01:35:02\n",
       "1  2017-10-23 02:15:19  2017-10-23 03:11:41\n",
       "2  2017-10-23 03:51:58  2017-10-23 04:48:20\n",
       "3  2017-10-23 05:28:38  2017-10-23 06:25:00\n",
       "4  2017-10-23 07:05:17  2017-10-23 08:01:39"
      ]
     },
     "execution_count": 3,
     "metadata": {},
     "output_type": "execute_result"
    }
   ],
   "source": [
    "from nustar_planning import io\n",
    "occfile= \"../orbit_engine/lunar_{0}_{1}.occ\".format(tstart.timetuple().tm_yday,tend.timetuple().tm_yday )\n",
    "\n",
    "#print(occfile)\n",
    "orbits = io.parse_occ(occfile)\n",
    "\n",
    "# NB: The \"head\" command here only shows the first couple of rows. Do a \"print(orbits)\" to see them all.\n",
    "orbits.head()\n"
   ]
  },
  {
   "cell_type": "code",
   "execution_count": 4,
   "metadata": {
    "collapsed": false
   },
   "outputs": [
    {
     "data": {
      "text/plain": [
       "<module 'nustar_planning.lunar_planning' from '/Users/bwgref/science/local/anaconda/lib/python3.5/site-packages/nustar_planning-0.1.dev50-py3.5.egg/nustar_planning/lunar_planning.py'>"
      ]
     },
     "execution_count": 4,
     "metadata": {},
     "output_type": "execute_result"
    }
   ],
   "source": [
    "#from nustar_planning.lunar_planning import position, position_shift\n",
    "import nustar_planning.lunar_planning as lunar_planning\n",
    "from importlib import reload\n",
    "reload(lunar_planning)"
   ]
  },
  {
   "cell_type": "code",
   "execution_count": 9,
   "metadata": {
    "collapsed": false
   },
   "outputs": [
    {
     "name": "stdout",
     "output_type": "stream",
     "text": [
      "Aim Time            RA         Dec\n",
      "2017-10-23T08:41:57 250.26203  -17.23396\n",
      "2017-10-23T08:53:13.200000 250.32626  -17.49259\n",
      "2017-10-23T09:04:29.400000 249.89779  -17.64254\n",
      "2017-10-23T09:15:45.600000 249.24485  -17.60832\n",
      "2017-10-23T09:27:01.800000 248.76562  -17.41580\n"
     ]
    }
   ],
   "source": [
    "reload(lunar_planning)\n",
    "sub = orbits.iloc[5:6].reset_index()\n",
    "lunar_planning.position(sub, steps = 5, parallax_correction=True)"
   ]
  },
  {
   "cell_type": "code",
   "execution_count": 11,
   "metadata": {
    "collapsed": false,
    "scrolled": false
   },
   "outputs": [
    {
     "name": "stdout",
     "output_type": "stream",
     "text": [
      "2017:296:08:36:57 RA: 250.26174  Dec: -17.40715\n",
      "\n",
      "2017:296:08:39:03 RA: 250.34909  Dec: -17.46402\n",
      "\n",
      "2017:296:08:41:27 RA: 250.42477  Dec: -17.53533\n",
      "\n",
      "2017:296:08:44:24 RA: 250.46783  Dec: -17.62693\n",
      "\n",
      "2017:296:08:48:15 RA: 250.43858  Dec: -17.72324\n",
      "\n",
      "2017:296:08:52:39 RA: 250.35823  Dec: -17.78862\n",
      "\n",
      "2017:296:08:56:09 RA: 250.26120  Dec: -17.83125\n",
      "\n",
      "2017:296:08:58:57 RA: 250.16033  Dec: -17.85924\n",
      "\n",
      "2017:296:09:01:18 RA: 250.05506  Dec: -17.87802\n",
      "\n",
      "2017:296:09:03:27 RA: 249.94821  Dec: -17.88929\n",
      "\n",
      "2017:296:09:05:27 RA: 249.84076  Dec: -17.89429\n",
      "\n",
      "2017:296:09:07:21 RA: 249.73541  Dec: -17.89386\n",
      "\n",
      "2017:296:09:09:09 RA: 249.62838  Dec: -17.88842\n",
      "\n",
      "2017:296:09:10:57 RA: 249.52142  Dec: -17.87809\n",
      "\n",
      "2017:296:09:12:45 RA: 249.41627  Dec: -17.86305\n",
      "\n",
      "2017:296:09:14:33 RA: 249.31190  Dec: -17.84295\n",
      "\n",
      "2017:296:09:16:24 RA: 249.20793  Dec: -17.81708\n",
      "\n",
      "2017:296:09:18:21 RA: 249.10745  Dec: -17.78522\n",
      "\n",
      "2017:296:09:20:24 RA: 249.01008  Dec: -17.74554\n",
      "\n",
      "2017:296:09:22:39 RA: 248.91754  Dec: -17.69483\n",
      "\n",
      "2017:296:09:25:15 RA: 248.83846  Dec: -17.62867\n",
      "\n",
      "2017:296:09:28:24 RA: 248.79572  Dec: -17.53642\n",
      "\n",
      "2017:296:09:32:39 RA: 248.83522  Dec: -17.44274\n",
      "\n",
      "2017:296:09:37:09 RA: 248.91905  Dec: -17.38143\n",
      "\n",
      "2017:296:09:40:27 RA: 249.01582  Dec: -17.33969\n",
      "\n",
      "\n"
     ]
    }
   ],
   "source": [
    "# PA == 0 (default), Rmoon = 940 arcseconds (default), 6 arcminutes maximum drift (default) and\n",
    "# no minimum dwell period (default)\n",
    "reload(lunar_planning)\n",
    "lunar_planning.position_shift(sub, parallax_correction=True, pa = 338.0*u.deg, dt = 3*u.s,\n",
    "                              outfile='lunar_20171023_v3.txt')"
   ]
  },
  {
   "cell_type": "code",
   "execution_count": null,
   "metadata": {
    "collapsed": true
   },
   "outputs": [],
   "source": []
  }
 ],
 "metadata": {
  "anaconda-cloud": {},
  "kernelspec": {
   "display_name": "Python [default]",
   "language": "python",
   "name": "python3"
  },
  "language_info": {
   "codemirror_mode": {
    "name": "ipython",
    "version": 3
   },
   "file_extension": ".py",
   "mimetype": "text/x-python",
   "name": "python",
   "nbconvert_exporter": "python",
   "pygments_lexer": "ipython3",
   "version": "3.5.1"
  }
 },
 "nbformat": 4,
 "nbformat_minor": 2
}
