{
 "cells": [
  {
   "cell_type": "markdown",
   "metadata": {},
   "source": [
    "# Note, this *only* works for observing things in the future. Dealing with the pointing corrections in the analysis is not supported here.\n",
    "\n",
    "\n",
    "\n"
   ]
  },
  {
   "cell_type": "markdown",
   "metadata": {},
   "source": [
    "# First thing to do, make a copy of this notebook under File->Make a Copy with some intelligent naming convention.\n",
    "\n",
    "---"
   ]
  },
  {
   "cell_type": "markdown",
   "metadata": {},
   "source": [
    "# Set your observing times here.\n",
    "\n",
    "## NB: This will be a broader window that you'll actually use. The final output will give you orbit-by-orbit pointing information. So you can use a subset of the orbits that are chosen here."
   ]
  },
  {
   "cell_type": "code",
   "execution_count": 1,
   "metadata": {
    "collapsed": false
   },
   "outputs": [],
   "source": [
    "from datetime import datetime\n",
    "tstart = '2017-07-13T00:00:00'\n",
    "tend = '2017-07-14T00:00:00'\n",
    " \n",
    "# Turn these into datetime objects\n",
    "\n",
    "tstart = datetime.strptime(tstart, '%Y-%m-%dT%H:%M:%S')\n",
    "tend = datetime.strptime(tend, '%Y-%m-%dT%H:%M:%S')                "
   ]
  },
  {
   "cell_type": "markdown",
   "metadata": {},
   "source": [
    "---\n",
    "# Step 1, get the nominal RA/Dec Position for the Moon at the start.\n",
    "\n",
    "## We use this to determine what the occultation times are."
   ]
  },
  {
   "cell_type": "code",
   "execution_count": null,
   "metadata": {
    "collapsed": false
   },
   "outputs": [],
   "source": [
    "from skyfield.api import Loader\n",
    "from astropy.time import Time\n",
    "import astropy.units as u\n",
    "\n",
    "load = Loader('../../data')\n",
    "\n",
    "ts = load.timescale()\n",
    "planets = load('de436.bsp')\n",
    "\n",
    "astro_time = Time(tstart)\n",
    "t = ts.from_astropy(astro_time)\n",
    "moon, earth = planets['moon'], planets['earth']\n",
    "astrometric = earth.at(t).observe(moon)\n",
    "ra, dec, distance = astrometric.radec()\n",
    "\n",
    "\n",
    "occstring = \"./occ {0:0.4f} {1:0.4f} Latest_TLE.txt {2}:{3}:00:00:00 {4}:{5}:00:00:00 lunar_{3}_{5}.occ\".format(\n",
    "      ra.to(u.deg).value, dec.to(u.deg).value,\n",
    "      tstart.timetuple().tm_year, tstart.timetuple().tm_yday, \n",
    "      tend.timetuple().tm_year, tend.timetuple().tm_yday)\n",
    "\n",
    "\n",
    "outfile = '../orbit_engine/lunar_{0}to{1}.sh'.format(tstart.timetuple().tm_yday, tend.timetuple().tm_yday)\n",
    "print(outfile)\n",
    "\n",
    "f = open(outfile, 'w')\n",
    "f.write(occstring)\n",
    "f.close()\n",
    "\n",
    "\n",
    "import os\n",
    "import stat\n",
    "\n",
    "st = os.stat(outfile)\n",
    "os.chmod(outfile, st.st_mode | stat.S_IEXEC)\n",
    "\n"
   ]
  },
  {
   "cell_type": "markdown",
   "metadata": {},
   "source": [
    "---\n",
    "# Step 2: Go run the code that figures out the unocculted periods for the RA/Dec and the date range reported above.\n",
    "\n",
    "This works on lif. There are example shell scripts in the ../orbit_engine directory that use the version that Karl already compiled for the nuops users.\n",
    "\n",
    "First, get the latest TLE archive:\n",
    "\n",
    "`./get_latest_TLE.sh`\n",
    "\n",
    "Run the script that was produced above.\n"
   ]
  },
  {
   "cell_type": "markdown",
   "metadata": {},
   "source": [
    "# Step 3: Initialize your libraries and parse the resulting occultation file:\n"
   ]
  },
  {
   "cell_type": "code",
   "execution_count": 2,
   "metadata": {
    "collapsed": false
   },
   "outputs": [
    {
     "data": {
      "text/html": [
       "<div>\n",
       "<table border=\"1\" class=\"dataframe\">\n",
       "  <thead>\n",
       "    <tr style=\"text-align: right;\">\n",
       "      <th></th>\n",
       "      <th>visible</th>\n",
       "      <th>occulted</th>\n",
       "    </tr>\n",
       "  </thead>\n",
       "  <tbody>\n",
       "    <tr>\n",
       "      <th>0</th>\n",
       "      <td>2017-07-13 00:22:04</td>\n",
       "      <td>2017-07-13 01:17:59</td>\n",
       "    </tr>\n",
       "    <tr>\n",
       "      <th>1</th>\n",
       "      <td>2017-07-13 01:58:44</td>\n",
       "      <td>2017-07-13 02:54:38</td>\n",
       "    </tr>\n",
       "    <tr>\n",
       "      <th>2</th>\n",
       "      <td>2017-07-13 03:35:24</td>\n",
       "      <td>2017-07-13 04:31:18</td>\n",
       "    </tr>\n",
       "    <tr>\n",
       "      <th>3</th>\n",
       "      <td>2017-07-13 05:12:03</td>\n",
       "      <td>2017-07-13 06:07:57</td>\n",
       "    </tr>\n",
       "    <tr>\n",
       "      <th>4</th>\n",
       "      <td>2017-07-13 06:48:43</td>\n",
       "      <td>2017-07-13 07:44:37</td>\n",
       "    </tr>\n",
       "  </tbody>\n",
       "</table>\n",
       "</div>"
      ],
      "text/plain": [
       "               visible             occulted\n",
       "0  2017-07-13 00:22:04  2017-07-13 01:17:59\n",
       "1  2017-07-13 01:58:44  2017-07-13 02:54:38\n",
       "2  2017-07-13 03:35:24  2017-07-13 04:31:18\n",
       "3  2017-07-13 05:12:03  2017-07-13 06:07:57\n",
       "4  2017-07-13 06:48:43  2017-07-13 07:44:37"
      ]
     },
     "execution_count": 2,
     "metadata": {},
     "output_type": "execute_result"
    }
   ],
   "source": [
    "from nustar_planning import io\n",
    "occfile= \"../orbit_engine/lunar_{0}_{1}.occ\".format(tstart.timetuple().tm_yday,tend.timetuple().tm_yday )\n",
    "\n",
    "orbits = io.parse_occ(occfile)\n",
    "\n",
    "# NB: The \"head\" command here only shows the first couple of rows. Do a \"print(orbits)\" to see them all.\n",
    "orbits.head()\n"
   ]
  },
  {
   "cell_type": "markdown",
   "metadata": {},
   "source": [
    "# Use SkyField to get the location of Jupiter for each orbit:\n",
    "\n",
    "This puts the output into the provided text file. This shows the *aim* time that was used to determine the pointing. You should slew while the source is occulted."
   ]
  },
  {
   "cell_type": "code",
   "execution_count": 9,
   "metadata": {
    "collapsed": false,
    "scrolled": true
   },
   "outputs": [
    {
     "name": "stdout",
     "output_type": "stream",
     "text": [
      "Aim Time            RA         Dec\n",
      "2017-07-13T00:22:04 337.44450  -10.85561\n",
      "2017-07-13T00:22:04 337.46482  -10.91256\n",
      "2017-07-13T00:22:04 337.01030  -10.90067\n",
      "2017-07-13T00:22:04 336.35886  -10.80921\n",
      "2017-07-13T00:22:04 335.90302  -10.67216\n",
      "2017-07-13T01:58:44 338.27371  -10.61396\n",
      "2017-07-13T01:58:44 338.30449  -10.66730\n",
      "2017-07-13T01:58:44 337.85758  -10.65440\n",
      "2017-07-13T01:58:44 337.20641  -10.56498\n",
      "2017-07-13T01:58:44 336.74306  -10.43174\n",
      "2017-07-13T03:35:24 339.10239  -10.36999\n",
      "2017-07-13T03:35:24 339.14356  -10.41966\n",
      "2017-07-13T03:35:24 338.70407  -10.40561\n",
      "2017-07-13T03:35:24 338.05313  -10.31809\n",
      "2017-07-13T03:35:24 337.58264  -10.18859\n",
      "2017-07-13T05:12:03 339.93009  -10.12364\n",
      "2017-07-13T05:12:03 339.98245  -10.16965\n",
      "2017-07-13T05:12:03 339.55105  -10.15447\n",
      "2017-07-13T05:12:03 338.90053  -10.06885\n",
      "2017-07-13T05:12:03 338.42249  -9.94311\n",
      "2017-07-13T06:48:43 340.75779  -9.87516\n",
      "2017-07-13T06:48:43 340.82054  -9.91739\n",
      "2017-07-13T06:48:43 340.39675  -9.90086\n",
      "2017-07-13T06:48:43 339.74676  -9.81698\n",
      "2017-07-13T06:48:43 339.26183  -9.69495\n",
      "2017-07-13T08:25:22 341.58454  -9.62441\n",
      "2017-07-13T08:25:22 341.65847  -9.66287\n",
      "2017-07-13T08:25:22 341.24298  -9.64500\n",
      "2017-07-13T08:25:22 340.59374  -9.56285\n",
      "2017-07-13T08:25:22 340.10152  -9.44453\n",
      "2017-07-13T10:02:02 342.41138  -9.37161\n",
      "2017-07-13T10:02:02 342.49568  -9.40618\n",
      "2017-07-13T10:02:02 342.08800  -9.38678\n",
      "2017-07-13T10:02:02 341.43960  -9.30619\n",
      "2017-07-13T10:02:02 340.94072  -9.19154\n",
      "2017-07-13T11:38:41 343.23730  -9.11664\n",
      "2017-07-13T11:38:41 343.33271  -9.14735\n",
      "2017-07-13T11:38:41 342.93324  -9.12637\n",
      "2017-07-13T11:38:41 342.28570  -9.04728\n",
      "2017-07-13T11:38:41 341.77998  -8.93624\n",
      "2017-07-13T13:15:21 344.06340  -8.85971\n",
      "2017-07-13T13:15:21 344.16922  -8.88643\n",
      "2017-07-13T13:15:21 343.77804  -8.86377\n",
      "2017-07-13T13:15:21 343.13187  -8.78612\n",
      "2017-07-13T13:15:21 342.61954  -8.67873\n",
      "2017-07-13T14:52:00 344.88862  -8.60072\n",
      "2017-07-13T14:52:00 345.00554  -8.62348\n",
      "2017-07-13T14:52:00 344.62277  -8.59905\n",
      "2017-07-13T14:52:00 343.97776  -8.52271\n",
      "2017-07-13T14:52:00 343.45886  -8.41887\n",
      "2017-07-13T16:28:40 345.71412  -8.33984\n",
      "2017-07-13T16:28:40 345.84142  -8.35854\n",
      "2017-07-13T16:28:40 345.46712  -8.33224\n",
      "2017-07-13T16:28:40 344.82380  -8.25716\n",
      "2017-07-13T16:28:40 344.29855  -8.15690\n",
      "2017-07-13T18:05:20 346.53937  -8.07706\n",
      "2017-07-13T18:05:20 346.67700  -8.09166\n",
      "2017-07-13T18:05:20 346.31096  -8.06337\n",
      "2017-07-13T18:05:20 345.66923  -7.98941\n",
      "2017-07-13T18:05:20 345.13793  -7.89264\n",
      "2017-07-13T19:41:59 347.36381  -7.81239\n",
      "2017-07-13T19:41:59 347.51254  -7.82291\n",
      "2017-07-13T19:41:59 347.15550  -7.79261\n",
      "2017-07-13T19:41:59 346.51565  -7.71972\n",
      "2017-07-13T19:41:59 345.97799  -7.62642\n",
      "2017-07-13T21:18:39 348.18868  -7.54596\n",
      "2017-07-13T21:18:39 348.34771  -7.55231\n",
      "2017-07-13T21:18:39 347.99910  -7.51985\n",
      "2017-07-13T21:18:39 347.36114  -7.44788\n",
      "2017-07-13T21:18:39 346.81769  -7.35799\n",
      "2017-07-13T22:55:18 349.01277  -7.27775\n",
      "2017-07-13T22:55:18 349.18289  -7.27996\n",
      "2017-07-13T22:55:18 348.84345  -7.24530\n",
      "2017-07-13T22:55:18 348.20770  -7.17421\n",
      "2017-07-13T22:55:18 347.65815  -7.08769\n",
      "Output is stored in: lunar_194_195_pointing.txt\n"
     ]
    }
   ],
   "source": [
    "from nustar_planning import moon\n",
    "from imp import reload\n",
    "reload(moon)\n",
    "outfile = 'lunar_{0}_{1}_pointing.txt'.format(tstart.timetuple().tm_yday,tend.timetuple().tm_yday )\n",
    "moon.position(orbits, load_path ='../../data',\n",
    "                 parallax_correction=True,\n",
    "                 outfile=outfile, show=True)\n",
    "print(\"Output is stored in: {}\".format(outfile))"
   ]
  },
  {
   "cell_type": "code",
   "execution_count": null,
   "metadata": {
    "collapsed": true
   },
   "outputs": [],
   "source": []
  }
 ],
 "metadata": {
  "anaconda-cloud": {},
  "kernelspec": {
   "display_name": "Python [default]",
   "language": "python",
   "name": "python3"
  },
  "language_info": {
   "codemirror_mode": {
    "name": "ipython",
    "version": 3
   },
   "file_extension": ".py",
   "mimetype": "text/x-python",
   "name": "python",
   "nbconvert_exporter": "python",
   "pygments_lexer": "ipython3",
   "version": "3.5.2"
  }
 },
 "nbformat": 4,
 "nbformat_minor": 2
}
