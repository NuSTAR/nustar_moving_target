{
 "cells": [
  {
   "cell_type": "markdown",
   "metadata": {},
   "source": [
    "# Note, this *only* works for observing things in the future. Dealing with the pointing corrections in the analysis is not supported here.\n",
    "\n",
    "# Set your observing times here"
   ]
  },
  {
   "cell_type": "code",
   "execution_count": 1,
   "metadata": {
    "collapsed": false
   },
   "outputs": [],
   "source": [
    "from datetime import datetime\n",
    "tstart = '2017-06-18T00:00:00'\n",
    "tend = '2017-06-20T00:00:00'\n",
    " \n",
    "# Turn these into datetime objects\n",
    "\n",
    "tstart = datetime.strptime(tstart, '%Y-%m-%dT%H:%M:%S')\n",
    "tend = datetime.strptime(tend, '%Y-%m-%dT%H:%M:%S')                "
   ]
  },
  {
   "cell_type": "markdown",
   "metadata": {},
   "source": [
    "# Step 1, get the nominal RA/Dec Position for Jupiter at the start"
   ]
  },
  {
   "cell_type": "code",
   "execution_count": 2,
   "metadata": {
    "collapsed": false
   },
   "outputs": [
    {
     "name": "stderr",
     "output_type": "stream",
     "text": [
      "[#################################] 100% deltat.data\n",
      "[#################################] 100% deltat.preds\n",
      "[#################################] 100% Leap_Second.dat\n",
      "[#################################] 100% de436.bsp\n"
     ]
    },
    {
     "name": "stdout",
     "output_type": "stream",
     "text": [
      "4.138163799997848 deg -1.5885159399247324 deg\n",
      "2017 169\n",
      "2017 171\n"
     ]
    }
   ],
   "source": [
    "from skyfield.api import Loader\n",
    "from astropy.time import Time\n",
    "import astropy.units as u\n",
    "\n",
    "load = Loader('../data')\n",
    "\n",
    "ts = load.timescale()\n",
    "planets = load('de436.bsp')\n",
    "\n",
    "\n",
    "\n",
    "astro_time = Time(tstart)\n",
    "t = ts.from_astropy(astro_time)\n",
    "moon, earth = planets['moon'], planets['earth']\n",
    "astrometric = earth.at(t).observe(moon)\n",
    "ra, dec, distance = astrometric.radec()\n",
    "\n",
    "print(ra.to(u.deg), dec.to(u.deg))\n",
    "\n",
    "print(tstart.timetuple().tm_year, tstart.timetuple().tm_yday)\n",
    "print(tend.timetuple().tm_year, tend.timetuple().tm_yday)\n"
   ]
  },
  {
   "cell_type": "markdown",
   "metadata": {},
   "source": [
    "# Step 2: Go run the code that figured out the unocculted periods for the RA/Dec and the date range reported above.\n",
    "\n",
    "This works on lif. There are example shell scripts in ./orbit_engine that use the version that Karl already compiled for the nuops users.\n",
    "\n",
    "Do:\n",
    "\n",
    "`./get_latest_TLE.sh`\n",
    "\n",
    "adjust the\n",
    "\n",
    "`run_jupiter_test.sh`\n",
    "\n",
    "script appropriately, then\n",
    "\n",
    "`./run_jupiter_test.sh`\n",
    "\n",
    "Check in the resulting jupiter occultation file into the repo, push it here, and them start below.\n"
   ]
  },
  {
   "cell_type": "markdown",
   "metadata": {},
   "source": [
    "# Step 3: Parse the resulting occultation file:"
   ]
  },
  {
   "cell_type": "code",
   "execution_count": 7,
   "metadata": {
    "collapsed": false
   },
   "outputs": [
    {
     "data": {
      "text/html": [
       "<div>\n",
       "<table border=\"1\" class=\"dataframe\">\n",
       "  <thead>\n",
       "    <tr style=\"text-align: right;\">\n",
       "      <th></th>\n",
       "      <th>visible</th>\n",
       "      <th>occulted</th>\n",
       "    </tr>\n",
       "  </thead>\n",
       "  <tbody>\n",
       "    <tr>\n",
       "      <th>0</th>\n",
       "      <td>2017-06-18 00:25:18</td>\n",
       "      <td>2017-06-18 01:21:08</td>\n",
       "    </tr>\n",
       "    <tr>\n",
       "      <th>1</th>\n",
       "      <td>2017-06-18 02:01:58</td>\n",
       "      <td>2017-06-18 02:57:47</td>\n",
       "    </tr>\n",
       "    <tr>\n",
       "      <th>2</th>\n",
       "      <td>2017-06-18 03:38:38</td>\n",
       "      <td>2017-06-18 04:34:27</td>\n",
       "    </tr>\n",
       "    <tr>\n",
       "      <th>3</th>\n",
       "      <td>2017-06-18 05:15:17</td>\n",
       "      <td>2017-06-18 06:11:07</td>\n",
       "    </tr>\n",
       "    <tr>\n",
       "      <th>4</th>\n",
       "      <td>2017-06-18 06:51:57</td>\n",
       "      <td>2017-06-18 07:47:46</td>\n",
       "    </tr>\n",
       "    <tr>\n",
       "      <th>5</th>\n",
       "      <td>2017-06-18 08:28:37</td>\n",
       "      <td>2017-06-18 09:24:26</td>\n",
       "    </tr>\n",
       "    <tr>\n",
       "      <th>6</th>\n",
       "      <td>2017-06-18 10:05:16</td>\n",
       "      <td>2017-06-18 11:01:06</td>\n",
       "    </tr>\n",
       "    <tr>\n",
       "      <th>7</th>\n",
       "      <td>2017-06-18 11:41:56</td>\n",
       "      <td>2017-06-18 12:37:45</td>\n",
       "    </tr>\n",
       "    <tr>\n",
       "      <th>8</th>\n",
       "      <td>2017-06-18 13:18:36</td>\n",
       "      <td>2017-06-18 14:14:25</td>\n",
       "    </tr>\n",
       "    <tr>\n",
       "      <th>9</th>\n",
       "      <td>2017-06-18 14:55:15</td>\n",
       "      <td>2017-06-18 15:51:05</td>\n",
       "    </tr>\n",
       "    <tr>\n",
       "      <th>10</th>\n",
       "      <td>2017-06-18 16:31:55</td>\n",
       "      <td>2017-06-18 17:27:44</td>\n",
       "    </tr>\n",
       "    <tr>\n",
       "      <th>11</th>\n",
       "      <td>2017-06-18 18:08:34</td>\n",
       "      <td>2017-06-18 19:04:24</td>\n",
       "    </tr>\n",
       "    <tr>\n",
       "      <th>12</th>\n",
       "      <td>2017-06-18 19:45:14</td>\n",
       "      <td>2017-06-18 20:41:04</td>\n",
       "    </tr>\n",
       "    <tr>\n",
       "      <th>13</th>\n",
       "      <td>2017-06-18 21:21:54</td>\n",
       "      <td>2017-06-18 22:17:43</td>\n",
       "    </tr>\n",
       "    <tr>\n",
       "      <th>14</th>\n",
       "      <td>2017-06-18 22:58:33</td>\n",
       "      <td>2017-06-18 23:54:23</td>\n",
       "    </tr>\n",
       "    <tr>\n",
       "      <th>15</th>\n",
       "      <td>2017-06-19 00:35:13</td>\n",
       "      <td>2017-06-19 01:31:03</td>\n",
       "    </tr>\n",
       "    <tr>\n",
       "      <th>16</th>\n",
       "      <td>2017-06-19 02:11:53</td>\n",
       "      <td>2017-06-19 03:07:42</td>\n",
       "    </tr>\n",
       "    <tr>\n",
       "      <th>17</th>\n",
       "      <td>2017-06-19 03:48:32</td>\n",
       "      <td>2017-06-19 04:44:22</td>\n",
       "    </tr>\n",
       "    <tr>\n",
       "      <th>18</th>\n",
       "      <td>2017-06-19 05:25:12</td>\n",
       "      <td>2017-06-19 06:21:02</td>\n",
       "    </tr>\n",
       "    <tr>\n",
       "      <th>19</th>\n",
       "      <td>2017-06-19 07:01:52</td>\n",
       "      <td>2017-06-19 07:57:41</td>\n",
       "    </tr>\n",
       "    <tr>\n",
       "      <th>20</th>\n",
       "      <td>2017-06-19 08:38:31</td>\n",
       "      <td>2017-06-19 09:34:21</td>\n",
       "    </tr>\n",
       "    <tr>\n",
       "      <th>21</th>\n",
       "      <td>2017-06-19 10:15:11</td>\n",
       "      <td>2017-06-19 11:11:01</td>\n",
       "    </tr>\n",
       "    <tr>\n",
       "      <th>22</th>\n",
       "      <td>2017-06-19 11:51:51</td>\n",
       "      <td>2017-06-19 12:47:40</td>\n",
       "    </tr>\n",
       "    <tr>\n",
       "      <th>23</th>\n",
       "      <td>2017-06-19 13:28:30</td>\n",
       "      <td>2017-06-19 14:24:20</td>\n",
       "    </tr>\n",
       "    <tr>\n",
       "      <th>24</th>\n",
       "      <td>2017-06-19 15:05:10</td>\n",
       "      <td>2017-06-19 16:01:00</td>\n",
       "    </tr>\n",
       "    <tr>\n",
       "      <th>25</th>\n",
       "      <td>2017-06-19 16:41:49</td>\n",
       "      <td>2017-06-19 17:37:39</td>\n",
       "    </tr>\n",
       "    <tr>\n",
       "      <th>26</th>\n",
       "      <td>2017-06-19 18:18:29</td>\n",
       "      <td>2017-06-19 19:14:19</td>\n",
       "    </tr>\n",
       "    <tr>\n",
       "      <th>27</th>\n",
       "      <td>2017-06-19 19:55:09</td>\n",
       "      <td>2017-06-19 20:50:59</td>\n",
       "    </tr>\n",
       "    <tr>\n",
       "      <th>28</th>\n",
       "      <td>2017-06-19 21:31:48</td>\n",
       "      <td>2017-06-19 22:27:38</td>\n",
       "    </tr>\n",
       "  </tbody>\n",
       "</table>\n",
       "</div>"
      ],
      "text/plain": [
       "                visible             occulted\n",
       "0   2017-06-18 00:25:18  2017-06-18 01:21:08\n",
       "1   2017-06-18 02:01:58  2017-06-18 02:57:47\n",
       "2   2017-06-18 03:38:38  2017-06-18 04:34:27\n",
       "3   2017-06-18 05:15:17  2017-06-18 06:11:07\n",
       "4   2017-06-18 06:51:57  2017-06-18 07:47:46\n",
       "5   2017-06-18 08:28:37  2017-06-18 09:24:26\n",
       "6   2017-06-18 10:05:16  2017-06-18 11:01:06\n",
       "7   2017-06-18 11:41:56  2017-06-18 12:37:45\n",
       "8   2017-06-18 13:18:36  2017-06-18 14:14:25\n",
       "9   2017-06-18 14:55:15  2017-06-18 15:51:05\n",
       "10  2017-06-18 16:31:55  2017-06-18 17:27:44\n",
       "11  2017-06-18 18:08:34  2017-06-18 19:04:24\n",
       "12  2017-06-18 19:45:14  2017-06-18 20:41:04\n",
       "13  2017-06-18 21:21:54  2017-06-18 22:17:43\n",
       "14  2017-06-18 22:58:33  2017-06-18 23:54:23\n",
       "15  2017-06-19 00:35:13  2017-06-19 01:31:03\n",
       "16  2017-06-19 02:11:53  2017-06-19 03:07:42\n",
       "17  2017-06-19 03:48:32  2017-06-19 04:44:22\n",
       "18  2017-06-19 05:25:12  2017-06-19 06:21:02\n",
       "19  2017-06-19 07:01:52  2017-06-19 07:57:41\n",
       "20  2017-06-19 08:38:31  2017-06-19 09:34:21\n",
       "21  2017-06-19 10:15:11  2017-06-19 11:11:01\n",
       "22  2017-06-19 11:51:51  2017-06-19 12:47:40\n",
       "23  2017-06-19 13:28:30  2017-06-19 14:24:20\n",
       "24  2017-06-19 15:05:10  2017-06-19 16:01:00\n",
       "25  2017-06-19 16:41:49  2017-06-19 17:37:39\n",
       "26  2017-06-19 18:18:29  2017-06-19 19:14:19\n",
       "27  2017-06-19 19:55:09  2017-06-19 20:50:59\n",
       "28  2017-06-19 21:31:48  2017-06-19 22:27:38"
      ]
     },
     "execution_count": 7,
     "metadata": {},
     "output_type": "execute_result"
    }
   ],
   "source": [
    "file = '../orbit_engine/jupiter_169_171.occ'\n",
    "from jupiter_planning import *\n",
    "import jupiter_planning\n",
    "import importlib\n",
    "importlib.reload(jupiter_planning)\n",
    "orbits = jupiter_planning.parse_occ(file)\n",
    "orbits"
   ]
  },
  {
   "cell_type": "markdown",
   "metadata": {},
   "source": [
    "# Use SkyField to get the location of Jupiter for each orbit:"
   ]
  },
  {
   "cell_type": "code",
   "execution_count": 6,
   "metadata": {
    "collapsed": false,
    "scrolled": false
   },
   "outputs": [
    {
     "name": "stdout",
     "output_type": "stream",
     "text": [
      "Total accumualted time 97139.0\n"
     ]
    }
   ],
   "source": [
    "jupiter_planning.get_jupiter_radec(orbits, load_path = '../data', outfile='jupiter_169_171_pointing.txt', parallax_correction=True)"
   ]
  },
  {
   "cell_type": "code",
   "execution_count": null,
   "metadata": {
    "collapsed": true
   },
   "outputs": [],
   "source": []
  }
 ],
 "metadata": {
  "anaconda-cloud": {},
  "kernelspec": {
   "display_name": "Python [default]",
   "language": "python",
   "name": "python3"
  },
  "language_info": {
   "codemirror_mode": {
    "name": "ipython",
    "version": 3
   },
   "file_extension": ".py",
   "mimetype": "text/x-python",
   "name": "python",
   "nbconvert_exporter": "python",
   "pygments_lexer": "ipython3",
   "version": "3.5.1"
  }
 },
 "nbformat": 4,
 "nbformat_minor": 2
}
