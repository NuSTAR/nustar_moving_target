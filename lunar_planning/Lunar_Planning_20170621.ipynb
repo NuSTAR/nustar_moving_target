{
 "cells": [
  {
   "cell_type": "markdown",
   "metadata": {},
   "source": [
    "# Note, this *only* works for observing things in the future. Dealing with the pointing corrections in the analysis is not supported here.\n",
    "\n",
    "# Set your observing times here"
   ]
  },
  {
   "cell_type": "code",
   "execution_count": 1,
   "metadata": {
    "collapsed": false
   },
   "outputs": [],
   "source": [
    "from datetime import datetime\n",
    "tstart = '2017-06-21T00:00:00'\n",
    "tend = '2017-06-22T00:00:00'\n",
    " \n",
    "# Turn these into datetime objects\n",
    "\n",
    "tstart = datetime.strptime(tstart, '%Y-%m-%dT%H:%M:%S')\n",
    "tend = datetime.strptime(tend, '%Y-%m-%dT%H:%M:%S')                "
   ]
  },
  {
   "cell_type": "markdown",
   "metadata": {},
   "source": [
    "# Step 1, get the nominal RA/Dec Position for Jupiter at the start"
   ]
  },
  {
   "cell_type": "code",
   "execution_count": 3,
   "metadata": {
    "collapsed": false
   },
   "outputs": [
    {
     "name": "stdout",
     "output_type": "stream",
     "text": [
      "2017-06-21T12:00:00\n",
      "51.971289477813315 deg 13.604094026059773 deg\n",
      "2017 172\n",
      "2017 173\n"
     ]
    }
   ],
   "source": [
    "from skyfield.api import Loader\n",
    "from astropy.time import Time\n",
    "import astropy.units as u\n",
    "\n",
    "load = Loader('../data')\n",
    "\n",
    "ts = load.timescale()\n",
    "planets = load('de436.bsp')\n",
    "\n",
    "\n",
    "test_time = (tend - tstart)*0.5 + tstart\n",
    "print(test_time.isoformat())\n",
    "\n",
    "astro_time = Time(test_time)\n",
    "t = ts.from_astropy(astro_time)\n",
    "moon, earth, venus = planets['moon'], planets['earth'], planets['venus']\n",
    "astrometric = earth.at(t).observe(moon)\n",
    "ra, dec, distance = astrometric.radec()\n",
    "\n",
    "print(ra.to(u.deg), dec.to(u.deg))\n",
    "\n",
    "print(tstart.timetuple().tm_year, tstart.timetuple().tm_yday)\n",
    "print(tend.timetuple().tm_year, tend.timetuple().tm_yday)\n"
   ]
  },
  {
   "cell_type": "markdown",
   "metadata": {},
   "source": [
    "# Step 2: Go run the code that figured out the unocculted periods for the RA/Dec and the date range reported above.\n",
    "\n",
    "This works on lif. There are example shell scripts in ./orbit_engine that use the version that Karl already compiled for the nuops users.\n",
    "\n",
    "Do:\n",
    "\n",
    "`./get_latest_TLE.sh`\n",
    "\n",
    "adjust the\n",
    "\n",
    "`run_jupiter_test.sh`\n",
    "\n",
    "script appropriately, then\n",
    "\n",
    "`./run_jupiter_test.sh`\n",
    "\n",
    "Check in the resulting jupiter occultation file into the repo, push it here, and them start below.\n"
   ]
  },
  {
   "cell_type": "markdown",
   "metadata": {},
   "source": [
    "# Step 3: Parse the resulting occultation file:"
   ]
  },
  {
   "cell_type": "code",
   "execution_count": 4,
   "metadata": {
    "collapsed": false
   },
   "outputs": [
    {
     "data": {
      "text/html": [
       "<div>\n",
       "<table border=\"1\" class=\"dataframe\">\n",
       "  <thead>\n",
       "    <tr style=\"text-align: right;\">\n",
       "      <th></th>\n",
       "      <th>visible</th>\n",
       "      <th>occulted</th>\n",
       "    </tr>\n",
       "  </thead>\n",
       "  <tbody>\n",
       "    <tr>\n",
       "      <th>0</th>\n",
       "      <td>2017-06-21 00:17:07</td>\n",
       "      <td>2017-06-21 01:13:06</td>\n",
       "    </tr>\n",
       "    <tr>\n",
       "      <th>1</th>\n",
       "      <td>2017-06-21 01:53:47</td>\n",
       "      <td>2017-06-21 02:49:45</td>\n",
       "    </tr>\n",
       "    <tr>\n",
       "      <th>2</th>\n",
       "      <td>2017-06-21 03:30:27</td>\n",
       "      <td>2017-06-21 04:26:25</td>\n",
       "    </tr>\n",
       "    <tr>\n",
       "      <th>3</th>\n",
       "      <td>2017-06-21 05:07:06</td>\n",
       "      <td>2017-06-21 06:03:04</td>\n",
       "    </tr>\n",
       "    <tr>\n",
       "      <th>4</th>\n",
       "      <td>2017-06-21 06:43:46</td>\n",
       "      <td>2017-06-21 07:39:44</td>\n",
       "    </tr>\n",
       "    <tr>\n",
       "      <th>5</th>\n",
       "      <td>2017-06-21 08:20:25</td>\n",
       "      <td>2017-06-21 09:16:23</td>\n",
       "    </tr>\n",
       "    <tr>\n",
       "      <th>6</th>\n",
       "      <td>2017-06-21 09:57:05</td>\n",
       "      <td>2017-06-21 10:53:03</td>\n",
       "    </tr>\n",
       "    <tr>\n",
       "      <th>7</th>\n",
       "      <td>2017-06-21 11:33:44</td>\n",
       "      <td>2017-06-21 12:29:43</td>\n",
       "    </tr>\n",
       "    <tr>\n",
       "      <th>8</th>\n",
       "      <td>2017-06-21 13:10:24</td>\n",
       "      <td>2017-06-21 14:06:22</td>\n",
       "    </tr>\n",
       "    <tr>\n",
       "      <th>9</th>\n",
       "      <td>2017-06-21 14:47:03</td>\n",
       "      <td>2017-06-21 15:43:02</td>\n",
       "    </tr>\n",
       "    <tr>\n",
       "      <th>10</th>\n",
       "      <td>2017-06-21 16:23:43</td>\n",
       "      <td>2017-06-21 17:19:41</td>\n",
       "    </tr>\n",
       "    <tr>\n",
       "      <th>11</th>\n",
       "      <td>2017-06-21 18:00:23</td>\n",
       "      <td>2017-06-21 18:56:21</td>\n",
       "    </tr>\n",
       "    <tr>\n",
       "      <th>12</th>\n",
       "      <td>2017-06-21 19:37:02</td>\n",
       "      <td>2017-06-21 20:33:01</td>\n",
       "    </tr>\n",
       "    <tr>\n",
       "      <th>13</th>\n",
       "      <td>2017-06-21 21:13:42</td>\n",
       "      <td>2017-06-21 22:09:40</td>\n",
       "    </tr>\n",
       "    <tr>\n",
       "      <th>14</th>\n",
       "      <td>2017-06-21 22:50:21</td>\n",
       "      <td>2017-06-21 23:46:20</td>\n",
       "    </tr>\n",
       "  </tbody>\n",
       "</table>\n",
       "</div>"
      ],
      "text/plain": [
       "                visible             occulted\n",
       "0   2017-06-21 00:17:07  2017-06-21 01:13:06\n",
       "1   2017-06-21 01:53:47  2017-06-21 02:49:45\n",
       "2   2017-06-21 03:30:27  2017-06-21 04:26:25\n",
       "3   2017-06-21 05:07:06  2017-06-21 06:03:04\n",
       "4   2017-06-21 06:43:46  2017-06-21 07:39:44\n",
       "5   2017-06-21 08:20:25  2017-06-21 09:16:23\n",
       "6   2017-06-21 09:57:05  2017-06-21 10:53:03\n",
       "7   2017-06-21 11:33:44  2017-06-21 12:29:43\n",
       "8   2017-06-21 13:10:24  2017-06-21 14:06:22\n",
       "9   2017-06-21 14:47:03  2017-06-21 15:43:02\n",
       "10  2017-06-21 16:23:43  2017-06-21 17:19:41\n",
       "11  2017-06-21 18:00:23  2017-06-21 18:56:21\n",
       "12  2017-06-21 19:37:02  2017-06-21 20:33:01\n",
       "13  2017-06-21 21:13:42  2017-06-21 22:09:40\n",
       "14  2017-06-21 22:50:21  2017-06-21 23:46:20"
      ]
     },
     "execution_count": 4,
     "metadata": {},
     "output_type": "execute_result"
    }
   ],
   "source": [
    "file = '../orbit_engine/moon_172_173.occ'\n",
    "from lunar_planning import *\n",
    "import lunar_planning\n",
    "import importlib\n",
    "importlib.reload(lunar_planning)\n",
    "orbits = lunar_planning.parse_occ(file)\n",
    "orbits"
   ]
  },
  {
   "cell_type": "markdown",
   "metadata": {},
   "source": [
    "# Use SkyField to get the location of the Moon for each orbit:"
   ]
  },
  {
   "cell_type": "code",
   "execution_count": 9,
   "metadata": {
    "collapsed": false,
    "scrolled": false
   },
   "outputs": [
    {
     "name": "stdout",
     "output_type": "stream",
     "text": [
      "2017-06-21 06:48:46  to  2017-06-21 07:34:44\n",
      "lunar_pointing_2017-06-21T06:48:46_2017-06-21T07:34:44\n",
      "Aim Time            RA                  Dec\n",
      "Parallax corection (arcsec) 3947.5892027223126\n",
      "Offset to Venus (deg) 1.0965525563117535\n",
      "2017-06-21T06:48:46 49.899798951552675  12.75263576100037\n",
      "\n",
      "Parallax corection (arcsec) 3022.8838284980284\n",
      "Offset to Venus (deg) 0.8396899523605634\n",
      "2017-06-21T06:57:57.600000 49.730347826846256  12.8804294282762\n",
      "\n",
      "Parallax corection (arcsec) 1131.2199241496885\n",
      "Offset to Venus (deg) 0.3142277567082468\n",
      "2017-06-21T07:07:09.200000 49.253955303660724  12.992803081132976\n",
      "\n",
      "Parallax corection (arcsec) 1497.447709729638\n",
      "Offset to Venus (deg) 0.41595769714712166\n",
      "2017-06-21T07:16:20.800000 48.67244279951429  13.056125676954204\n",
      "\n",
      "Parallax corection (arcsec) 3282.380086412748\n",
      "Offset to Venus (deg) 0.9117722462257634\n",
      "2017-06-21T07:25:32.400000 48.230037727480784  13.056031101300738\n",
      "\n"
     ]
    }
   ],
   "source": [
    "importlib.reload(lunar_planning)\n",
    "\n",
    "from datetime import timedelta\n",
    "buffer = timedelta(minutes=5)\n",
    "\n",
    "\n",
    "\n",
    "for ind, orbit in orbits.iterrows():\n",
    "    if ind != 4:\n",
    "        continue\n",
    "        \n",
    "    tstart = orbit['visible'].to_pydatetime() + buffer\n",
    "    print(tstart, ' to ', tend)\n",
    "    tend = orbit['occulted'].to_pydatetime() - buffer\n",
    "\n",
    "    outfile = 'lunar_pointing_'+tstart.isoformat()+'_'+tend.isoformat()\n",
    "    \n",
    "    print(outfile)\n",
    "    \n",
    "    lunar_planning.get_lunar_radec(tstart, tend,show=True,\n",
    "                                  parallax_correction=True,\n",
    "                                  load_path='../data', steps = 5,\n",
    "                                  outfile=None)\n",
    "    \n",
    "    \n",
    "    \n",
    "    \n",
    "    \n"
   ]
  },
  {
   "cell_type": "code",
   "execution_count": null,
   "metadata": {
    "collapsed": true
   },
   "outputs": [],
   "source": []
  }
 ],
 "metadata": {
  "anaconda-cloud": {},
  "kernelspec": {
   "display_name": "Python [default]",
   "language": "python",
   "name": "python3"
  },
  "language_info": {
   "codemirror_mode": {
    "name": "ipython",
    "version": 3
   },
   "file_extension": ".py",
   "mimetype": "text/x-python",
   "name": "python",
   "nbconvert_exporter": "python",
   "pygments_lexer": "ipython3",
   "version": "3.5.2"
  }
 },
 "nbformat": 4,
 "nbformat_minor": 2
}
